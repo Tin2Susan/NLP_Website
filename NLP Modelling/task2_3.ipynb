{
 "cells": [
  {
   "cell_type": "markdown",
   "metadata": {},
   "source": [
    "# Natural Language Processing\n",
    "\n",
    "Version: 1.0\n",
    "\n",
    "Environment: Python 3 and Jupyter notebook\n",
    "\n",
  
    "* pandas\n",
    "* re\n",
    "* numpy\n",
    "\n",
    "## Introduction\n",
    
   
   ]
  },
  {
   "cell_type": "markdown",
   "metadata": {},
   "source": [
    "## Importing libraries "
   ]
  },
  {
   "cell_type": "code",
   "execution_count": 3,
   "metadata": {},
   "outputs": [],
   "source": [
    "# Code to import libraries as you need in this assessment, e.g.,\n",
    "from sklearn.feature_extraction.text import CountVectorizer\n",
    "import pandas as pd\n",
    "from sklearn.metrics import accuracy_score\n",
    "from sklearn.model_selection import train_test_split\n",
    "from sklearn.linear_model import LogisticRegression\n",
    "from sklearn.metrics import confusion_matrix"
   ]
  },
  {
   "cell_type": "markdown",
   "metadata": {},
   "source": [
    "## Task 2. Generating Feature Representations for Job Advertisement Descriptions"
   ]
  },
  {
   "cell_type": "markdown",
   "metadata": {},
   "source": [
    "...... Sections and code blocks on buidling different document feature represetations\n",
    "\n"
   ]
  },
  {
   "cell_type": "code",
   "execution_count": 4,
   "metadata": {},
   "outputs": [
    {
     "data": {
      "text/plain": [
       "776"
      ]
     },
     "execution_count": 4,
     "metadata": {},
     "output_type": "execute_result"
    }
   ],
   "source": [
    "#reading description information \n",
    "\n",
    "job_details = './Description_details.txt'\n",
    "with open(job_details) as f: \n",
    "    job_details = f.read().splitlines() # read all the reviews into a list\n",
    "len(job_details)"
   ]
  },
  {
   "cell_type": "code",
   "execution_count": 13,
   "metadata": {},
   "outputs": [],
   "source": [
    "job_details = [description.split(\" \") for description in job_details] "
   ]
  },
  {
   "cell_type": "code",
   "execution_count": 5,
   "metadata": {},
   "outputs": [
    {
     "data": {
      "text/plain": [
       "776"
      ]
     },
     "execution_count": 5,
     "metadata": {},
     "output_type": "execute_result"
    }
   ],
   "source": [
    "#reading webindex data from file\n",
    "webindex = './WebIndex.txt'\n",
    "with open(webindex) as f: \n",
    "    webindex = f.read().splitlines() # read all the reviews into a list\n",
    "len(webindex)"
   ]
  },
  {
   "cell_type": "code",
   "execution_count": 6,
   "metadata": {},
   "outputs": [
    {
     "data": {
      "text/plain": [
       "776"
      ]
     },
     "execution_count": 6,
     "metadata": {},
     "output_type": "execute_result"
    }
   ],
   "source": [
    "#reading title data from file\n",
    "title = './Title.txt'\n",
    "with open(title) as f: \n",
    "    title = f.read().splitlines() # read all the reviews into a list\n",
    "len(title)"
   ]
  },
  {
   "cell_type": "code",
   "execution_count": 7,
   "metadata": {},
   "outputs": [
    {
     "data": {
      "text/plain": [
       "776"
      ]
     },
     "execution_count": 7,
     "metadata": {},
     "output_type": "execute_result"
    }
   ],
   "source": [
    "#read category data from file\n",
    "categories = './Categories.txt'\n",
    "with open(categories) as f: \n",
    "    categories = f.read().splitlines() # read all the reviews into a list\n",
    "len(categories)"
   ]
  },
  {
   "cell_type": "code",
   "execution_count": 8,
   "metadata": {},
   "outputs": [],
   "source": [
    "# reading vocab file\n",
    "vocab = './vocab.txt'\n",
    "with open(vocab) as f: \n",
    "    vocab = f.read().splitlines() # read all the reviews into a list\n",
    " \n",
    "vocab = [v.split(':') for v in vocab]\n",
    "vocab\n",
    "voc = []\n",
    "for i in range(len(vocab)):\n",
    "    voc.append(vocab[i][0])\n",
    "   "
   ]
  },
  {
   "cell_type": "code",
   "execution_count": 9,
   "metadata": {},
   "outputs": [
    {
     "data": {
      "text/plain": [
       "{'Category': [], 'Title': [], 'Webindex': [], 'Description': []}"
      ]
     },
     "execution_count": 9,
     "metadata": {},
     "output_type": "execute_result"
    }
   ],
   "source": [
    "#creating dictionary for saving necessary data\n",
    "df=dict()\n",
    "\n",
    "df['Category']=[]\n",
    "df['Title']=[]\n",
    "df['Webindex']=[]\n",
    "df['Description']=[]\n",
    "df"
   ]
  },
  {
   "cell_type": "code",
   "execution_count": 10,
   "metadata": {},
   "outputs": [],
   "source": [
    "#saving data into dictionary\n",
    "df['Description'] = job_details\n",
    "df['Category']= categories\n",
    "df['Webindex'] = webindex\n",
    "df['Title']= title"
   ]
  },
  {
   "cell_type": "markdown",
   "metadata": {},
   "source": [
    "# Generating Count Vector"
   ]
  },
  {
   "cell_type": "code",
   "execution_count": 11,
   "metadata": {},
   "outputs": [
    {
     "data": {
      "text/plain": [
       "CountVectorizer(vocabulary=['aap', 'aaron', 'aat', 'abb', 'abenefit',\n",
       "                            'aberdeen', 'abi', 'abilities', 'abreast', 'abroad',\n",
       "                            'absence', 'absolute', 'aca', 'academic', 'academy',\n",
       "                            'acca', 'accept', 'acceptable', 'acceptance',\n",
       "                            'accepted', 'access', 'accessible', 'accident',\n",
       "                            'accommodates', 'accommodation', 'accomplished',\n",
       "                            'accordance', 'account', 'accountabilities',\n",
       "                            'accountability', ...])"
      ]
     },
     "execution_count": 11,
     "metadata": {},
     "output_type": "execute_result"
    }
   ],
   "source": [
    "#count vector\n",
    "cVectorizer = CountVectorizer(analyzer = \"word\",vocabulary = voc) # initialised the CountVectorizer\n",
    "cVectorizer"
   ]
  },
  {
   "cell_type": "code",
   "execution_count": 14,
   "metadata": {},
   "outputs": [
    {
     "name": "stdout",
     "output_type": "stream",
     "text": [
      "(776, 5058)\n"
     ]
    },
    {
     "data": {
      "text/plain": [
       "<776x5058 sparse matrix of type '<class 'numpy.int64'>'\n",
       "\twith 60406 stored elements in Compressed Sparse Row format>"
      ]
     },
     "execution_count": 14,
     "metadata": {},
     "output_type": "execute_result"
    }
   ],
   "source": [
    "count_features = cVectorizer.fit_transform([\" \".join(adv) for adv in job_details]) # generate the count vector representation for all articles\n",
    "print(count_features.shape)\n",
    "\n",
    "count_features"
   ]
  },
  {
   "cell_type": "code",
   "execution_count": 44,
   "metadata": {},
   "outputs": [],
   "source": [
    "cv=count_features.toarray()"
   ]
  },
  {
   "cell_type": "markdown",
   "metadata": {},
   "source": [
    "# Generating tfidf Vector"
   ]
  },
  {
   "cell_type": "code",
   "execution_count": 15,
   "metadata": {},
   "outputs": [
    {
     "data": {
      "text/plain": [
       "(776, 5058)"
      ]
     },
     "execution_count": 15,
     "metadata": {},
     "output_type": "execute_result"
    }
   ],
   "source": [
    "#tfidf \n",
    "\n",
    "from sklearn.feature_extraction.text import TfidfVectorizer\n",
    "tVectorizer = TfidfVectorizer(analyzer = \"word\",vocabulary = voc) # initialised the TfidfVectorizer\n",
    "tfidf_features = tVectorizer.fit_transform([' '.join(adv) for adv in job_details]) # generate the tfidf vector representation for all articles\n",
    "tfidf_features.shape"
   ]
  },
  {
   "cell_type": "markdown",
   "metadata": {},
   "source": [
    "# Generating Word Embeddings"
   ]
  },
  {
   "cell_type": "code",
   "execution_count": 16,
   "metadata": {},
   "outputs": [
    {
     "name": "stdout",
     "output_type": "stream",
     "text": [
      "FastText(vocab=3084, vector_size=100, alpha=0.025)\n"
     ]
    }
   ],
   "source": [
    "#word embeddings - fast text \n",
    "from gensim.models.fasttext import FastText\n",
    "\n",
    "# 1. Set the corpus file names/path\n",
    "corpus_file =  './Description_details.txt'\n",
    "\n",
    "# 2. Initialise the Fast Text model\n",
    "bbcFT = FastText(vector_size=100) \n",
    "\n",
    "# 3. build the vocabulary\n",
    "bbcFT.build_vocab(corpus_file=corpus_file)\n",
    "\n",
    "# 4. train the model\n",
    "bbcFT.train(\n",
    "    corpus_file=corpus_file, epochs=bbcFT.epochs,\n",
    "    total_examples=bbcFT.corpus_count, total_words=bbcFT.corpus_total_words,\n",
    ")\n",
    "\n",
    "print(bbcFT)"
   ]
  },
  {
   "cell_type": "code",
   "execution_count": 17,
   "metadata": {},
   "outputs": [
    {
     "name": "stdout",
     "output_type": "stream",
     "text": [
      "<gensim.models.fasttext.FastTextKeyedVectors object at 0x0000014DBBA4FD30>\n"
     ]
    }
   ],
   "source": [
    "bbcFT_wv = bbcFT.wv\n",
    "print(bbcFT_wv)"
   ]
  },
  {
   "cell_type": "code",
   "execution_count": 18,
   "metadata": {},
   "outputs": [],
   "source": [
    "# Save the model\n",
    "bbcFT.save(\"bbcFT.model\")"
   ]
  },
  {
   "cell_type": "markdown",
   "metadata": {},
   "source": [
    "### Saving outputs\n",
    "Save the count vector representation as per spectification.\n",
    "- count_vectors.txt"
   ]
  },
  {
   "cell_type": "code",
   "execution_count": 45,
   "metadata": {},
   "outputs": [],
   "source": [
    "df_X = pd.DataFrame(cv)\n",
    "f=open('count_vectors.txt','w')\n",
    "for k in range(df_X.shape[0]):\n",
    "    x=str(df['Webindex'][k]).strip()\n",
    "    if k==0:\n",
    "        f.write(f'#{x},')\n",
    "    else:\n",
    "        f.write(f'\\n#{x},')\n",
    "\n",
    "    dict1=dict()\n",
    "    for i,j in zip(range(len(list(cv[k]))),list(cv[k])):\n",
    "        if j>0:\n",
    "            dict1.update({i:j})\n",
    "            \n",
    "    for i in dict1.keys():\n",
    "        if i!=list(dict1.keys())[-1]: \n",
    "            f.write(f'{i}:{dict1[i]},')\n",
    "        if i==list(dict1.keys())[-1]:\n",
    "            f.write(f'{i}:{dict1[i]}')\n",
    "            \n",
    "f.close()"
   ]
  },
  {
   "cell_type": "markdown",
   "metadata": {},
   "source": [
    "## Task 3. Job Advertisement Classification"
   ]
  },
  {
   "cell_type": "markdown",
   "metadata": {},
   "source": [
    "...... Sections and code blocks on buidling classification models based on different document feature represetations. \n",
    "Detailed comparsions and evaluations on different models to answer each question as per specification. \n",
    "\n",
    "<span style=\"color: red\"> You might have complex notebook structure in this section, please feel free to create your own notebook structure. </span>"
   ]
  },
  {
   "cell_type": "markdown",
   "metadata": {},
   "source": [
    "# Count Vector Model"
   ]
  },
  {
   "cell_type": "code",
   "execution_count": 21,
   "metadata": {},
   "outputs": [
    {
     "data": {
      "text/plain": [
       "0.8599221789883269"
      ]
     },
     "execution_count": 21,
     "metadata": {},
     "output_type": "execute_result"
    }
   ],
   "source": [
    "seed = 20\n",
    "X_train, X_test, y_train, y_test = train_test_split(count_features, categories, test_size=0.33, random_state=seed)\n",
    "model = LogisticRegression(random_state=seed)\n",
    "model.fit(X_train, y_train)\n",
    "model.score(X_test, y_test)"
   ]
  },
  {
   "cell_type": "code",
   "execution_count": 22,
   "metadata": {},
   "outputs": [],
   "source": [
    "y_pred = model.predict(X_test)"
   ]
  },
  {
   "cell_type": "code",
   "execution_count": 23,
   "metadata": {},
   "outputs": [
    {
     "data": {
      "text/plain": [
       "221"
      ]
     },
     "execution_count": 23,
     "metadata": {},
     "output_type": "execute_result"
    }
   ],
   "source": [
    "accuracy_score(y_test, y_pred, normalize = False)"
   ]
  },
  {
   "cell_type": "code",
   "execution_count": 24,
   "metadata": {},
   "outputs": [
    {
     "data": {
      "text/plain": [
       "array([[53,  3,  8,  0],\n",
       "       [ 3, 65,  7,  0],\n",
       "       [ 1,  1, 62,  1],\n",
       "       [ 8,  2,  2, 41]], dtype=int64)"
      ]
     },
     "execution_count": 24,
     "metadata": {},
     "output_type": "execute_result"
    }
   ],
   "source": [
    "conf_mat = confusion_matrix(y_test, y_pred)\n",
    "conf_mat"
   ]
  },
  {
   "cell_type": "code",
   "execution_count": 25,
   "metadata": {},
   "outputs": [
    {
     "data": {
      "text/plain": [
       "Text(0.5, 14.09375, 'Predicted')"
      ]
     },
     "execution_count": 25,
     "metadata": {},
     "output_type": "execute_result"
    },
    {
     "data": {
      "image/png": "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\n",
      "text/plain": [
       "<Figure size 432x288 with 2 Axes>"
      ]
     },
     "metadata": {
      "needs_background": "light"
     },
     "output_type": "display_data"
    }
   ],
   "source": [
    "import matplotlib.pyplot as plt\n",
    "%matplotlib inline \n",
    "import seaborn as sns\n",
    "\n",
    "category = sorted(list(set(categories))) # this gives sorted set of unique label names\n",
    "\n",
    "sns.heatmap(conf_mat, annot=True, fmt='d',\n",
    "            xticklabels=category, yticklabels=category) # creates a heatmap from the confusion matrix\n",
    "plt.ylabel('Actual')\n",
    "plt.xlabel('Predicted')"
   ]
  },
  {
   "cell_type": "markdown",
   "metadata": {},
   "source": [
    "# Tfidf Model"
   ]
  },
  {
   "cell_type": "code",
   "execution_count": 26,
   "metadata": {},
   "outputs": [
    {
     "data": {
      "text/plain": [
       "0.9105058365758755"
      ]
     },
     "execution_count": 26,
     "metadata": {},
     "output_type": "execute_result"
    }
   ],
   "source": [
    "seed = 20\n",
    "X_train, X_test, y_train, y_test = train_test_split(tfidf_features, categories, test_size=0.33, random_state=seed)\n",
    "model = LogisticRegression(random_state=seed)\n",
    "model.fit(X_train, y_train)\n",
    "model.score(X_test, y_test)"
   ]
  },
  {
   "cell_type": "code",
   "execution_count": 27,
   "metadata": {},
   "outputs": [],
   "source": [
    "y_pred = model.predict(X_test)"
   ]
  },
  {
   "cell_type": "code",
   "execution_count": 28,
   "metadata": {},
   "outputs": [
    {
     "data": {
      "text/plain": [
       "234"
      ]
     },
     "execution_count": 28,
     "metadata": {},
     "output_type": "execute_result"
    }
   ],
   "source": [
    "accuracy_score(y_test, y_pred, normalize = False)"
   ]
  },
  {
   "cell_type": "code",
   "execution_count": 29,
   "metadata": {},
   "outputs": [
    {
     "data": {
      "text/plain": [
       "array([[61,  2,  1,  0],\n",
       "       [ 1, 72,  1,  1],\n",
       "       [ 0,  2, 62,  1],\n",
       "       [ 9,  4,  1, 39]], dtype=int64)"
      ]
     },
     "execution_count": 29,
     "metadata": {},
     "output_type": "execute_result"
    }
   ],
   "source": [
    "conf_mat = confusion_matrix(y_test, y_pred)\n",
    "conf_mat"
   ]
  },
  {
   "cell_type": "code",
   "execution_count": 30,
   "metadata": {},
   "outputs": [
    {
     "data": {
      "text/plain": [
       "Text(0.5, 14.09375, 'Predicted')"
      ]
     },
     "execution_count": 30,
     "metadata": {},
     "output_type": "execute_result"
    },
    {
     "data": {
      "image/png": "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\n",
      "text/plain": [
       "<Figure size 432x288 with 2 Axes>"
      ]
     },
     "metadata": {
      "needs_background": "light"
     },
     "output_type": "display_data"
    }
   ],
   "source": [
    "import matplotlib.pyplot as plt\n",
    "%matplotlib inline \n",
    "import seaborn as sns\n",
    "\n",
    "category = sorted(list(set(categories))) # this gives sorted set of unique label names\n",
    "\n",
    "sns.heatmap(conf_mat, annot=True, fmt='d',\n",
    "            xticklabels=category, yticklabels=category) # creates a heatmap from the confusion matrix\n",
    "plt.ylabel('Actual')\n",
    "plt.xlabel('Predicted')"
   ]
  },
  {
   "cell_type": "markdown",
   "metadata": {},
   "source": [
    "# FastText model"
   ]
  },
  {
   "cell_type": "code",
   "execution_count": 31,
   "metadata": {},
   "outputs": [],
   "source": [
    "def gen_docVecs(wv,tk_txts): # generate vector representation for documents\n",
    "    docs_vectors = pd.DataFrame() # creating empty final dataframe\n",
    "    #stopwords = nltk.corpus.stopwords.words('english') # if we haven't pre-processed the articles, it's a good idea to remove stop words\n",
    "\n",
    "    for i in range(0,len(tk_txts)):\n",
    "        tokens = tk_txts[i]\n",
    "        temp = pd.DataFrame()  # creating a temporary dataframe(store value for 1st doc & for 2nd doc remove the details of 1st & proced through 2nd and so on..)\n",
    "        for w_ind in range(0, len(tokens)): # looping through each word of a single document and spliting through space\n",
    "            try:\n",
    "                word = tokens[w_ind]\n",
    "                word_vec = wv[word] # if word is present in embeddings(goole provides weights associate with words(300)) then proceed\n",
    "                temp = temp.append(pd.Series(word_vec), ignore_index = True) # if word is present then append it to temporary dataframe\n",
    "            except:\n",
    "                pass\n",
    "        doc_vector = temp.sum() # take the sum of each column\n",
    "        docs_vectors = docs_vectors.append(doc_vector, ignore_index = True) # append each document value to the final dataframe\n",
    "    return docs_vectors"
   ]
  },
  {
   "cell_type": "code",
   "execution_count": 32,
   "metadata": {},
   "outputs": [
    {
     "name": "stdout",
     "output_type": "stream",
     "text": [
      "FastText(vocab=3084, vector_size=100, alpha=0.025)\n"
     ]
    }
   ],
   "source": [
    "from gensim.models.fasttext import FastText\n",
    "bbcFT = FastText.load(\"bbcFT.model\")\n",
    "print(bbcFT)\n",
    "bbcFT_wv= bbcFT.wv"
   ]
  },
  {
   "cell_type": "code",
   "execution_count": null,
   "metadata": {},
   "outputs": [
    {
     "name": "stderr",
     "output_type": "stream",
     "text": [
      "C:\\Users\\susan\\AppData\\Local\\Temp\\ipykernel_2340\\1633527202.py:12: FutureWarning: The frame.append method is deprecated and will be removed from pandas in a future version. Use pandas.concat instead.\n",
      "  temp = temp.append(pd.Series(word_vec), ignore_index = True) # if word is present then append it to temporary dataframe\n",
      "C:\\Users\\susan\\AppData\\Local\\Temp\\ipykernel_2340\\1633527202.py:12: FutureWarning: The frame.append method is deprecated and will be removed from pandas in a future version. Use pandas.concat instead.\n",
      "  temp = temp.append(pd.Series(word_vec), ignore_index = True) # if word is present then append it to temporary dataframe\n",
      "C:\\Users\\susan\\AppData\\Local\\Temp\\ipykernel_2340\\1633527202.py:16: FutureWarning: The frame.append method is deprecated and will be removed from pandas in a future version. Use pandas.concat instead.\n",
      "  docs_vectors = docs_vectors.append(doc_vector, ignore_index = True) # append each document value to the final dataframe\n",
      "C:\\Users\\susan\\AppData\\Local\\Temp\\ipykernel_2340\\1633527202.py:12: FutureWarning: The frame.append method is deprecated and will be removed from pandas in a future version. Use pandas.concat instead.\n",
      "  temp = temp.append(pd.Series(word_vec), ignore_index = True) # if word is present then append it to temporary dataframe\n",
      "C:\\Users\\susan\\AppData\\Local\\Temp\\ipykernel_2340\\1633527202.py:12: FutureWarning: The frame.append method is deprecated and will be removed from pandas in a future version. Use pandas.concat instead.\n",
      "  temp = temp.append(pd.Series(word_vec), ignore_index = True) # if word is present then append it to temporary dataframe\n",
      "C:\\Users\\susan\\AppData\\Local\\Temp\\ipykernel_2340\\1633527202.py:16: FutureWarning: The frame.append method is deprecated and will be removed from pandas in a future version. Use pandas.concat instead.\n",
      "  docs_vectors = docs_vectors.append(doc_vector, ignore_index = True) # append each document value to the final dataframe\n",
      "C:\\Users\\susan\\AppData\\Local\\Temp\\ipykernel_2340\\1633527202.py:12: FutureWarning: The frame.append method is deprecated and will be removed from pandas in a future version. Use pandas.concat instead.\n",
      "  temp = temp.append(pd.Series(word_vec), ignore_index = True) # if word is present then append it to temporary dataframe\n",
      "C:\\Users\\susan\\AppData\\Local\\Temp\\ipykernel_2340\\1633527202.py:12: FutureWarning: The frame.append method is deprecated and will be removed from pandas in a future version. Use pandas.concat instead.\n",
      "  temp = temp.append(pd.Series(word_vec), ignore_index = True) # if word is present then append it to temporary dataframe\n",
      "C:\\Users\\susan\\AppData\\Local\\Temp\\ipykernel_2340\\1633527202.py:16: FutureWarning: The frame.append method is deprecated and will be removed from pandas in a future version. Use pandas.concat instead.\n",
      "  docs_vectors = docs_vectors.append(doc_vector, ignore_index = True) # append each document value to the final dataframe\n",
      "C:\\Users\\susan\\AppData\\Local\\Temp\\ipykernel_2340\\1633527202.py:12: FutureWarning: The frame.append method is deprecated and will be removed from pandas in a future version. Use pandas.concat instead.\n",
      "  temp = temp.append(pd.Series(word_vec), ignore_index = True) # if word is present then append it to temporary dataframe\n",
      "C:\\Users\\susan\\AppData\\Local\\Temp\\ipykernel_2340\\1633527202.py:12: FutureWarning: The frame.append method is deprecated and will be removed from pandas in a future version. Use pandas.concat instead.\n",
      "  temp = temp.append(pd.Series(word_vec), ignore_index = True) # if word is present then append it to temporary dataframe\n",
      "C:\\Users\\susan\\AppData\\Local\\Temp\\ipykernel_2340\\1633527202.py:16: FutureWarning: The frame.append method is deprecated and will be removed from pandas in a future version. Use pandas.concat instead.\n",
      "  docs_vectors = docs_vectors.append(doc_vector, ignore_index = True) # append each document value to the final dataframe\n",
      "C:\\Users\\susan\\AppData\\Local\\Temp\\ipykernel_2340\\1633527202.py:12: FutureWarning: The frame.append method is deprecated and will be removed from pandas in a future version. Use pandas.concat instead.\n",
      "  temp = temp.append(pd.Series(word_vec), ignore_index = True) # if word is present then append it to temporary dataframe\n",
      "C:\\Users\\susan\\AppData\\Local\\Temp\\ipykernel_2340\\1633527202.py:12: FutureWarning: The frame.append method is deprecated and will be removed from pandas in a future version. Use pandas.concat instead.\n",
      "  temp = temp.append(pd.Series(word_vec), ignore_index = True) # if word is present then append it to temporary dataframe\n",
      "C:\\Users\\susan\\AppData\\Local\\Temp\\ipykernel_2340\\1633527202.py:16: FutureWarning: The frame.append method is deprecated and will be removed from pandas in a future version. Use pandas.concat instead.\n",
      "  docs_vectors = docs_vectors.append(doc_vector, ignore_index = True) # append each document value to the final dataframe\n",
      "C:\\Users\\susan\\AppData\\Local\\Temp\\ipykernel_2340\\1633527202.py:12: FutureWarning: The frame.append method is deprecated and will be removed from pandas in a future version. Use pandas.concat instead.\n",
      "  temp = temp.append(pd.Series(word_vec), ignore_index = True) # if word is present then append it to temporary dataframe\n",
      "C:\\Users\\susan\\AppData\\Local\\Temp\\ipykernel_2340\\1633527202.py:12: FutureWarning: The frame.append method is deprecated and will be removed from pandas in a future version. Use pandas.concat instead.\n",
      "  temp = temp.append(pd.Series(word_vec), ignore_index = True) # if word is present then append it to temporary dataframe\n",
      "C:\\Users\\susan\\AppData\\Local\\Temp\\ipykernel_2340\\1633527202.py:16: FutureWarning: The frame.append method is deprecated and will be removed from pandas in a future version. Use pandas.concat instead.\n",
      "  docs_vectors = docs_vectors.append(doc_vector, ignore_index = True) # append each document value to the final dataframe\n",
      "C:\\Users\\susan\\AppData\\Local\\Temp\\ipykernel_2340\\1633527202.py:12: FutureWarning: The frame.append method is deprecated and will be removed from pandas in a future version. Use pandas.concat instead.\n",
      "  temp = temp.append(pd.Series(word_vec), ignore_index = True) # if word is present then append it to temporary dataframe\n",
      "C:\\Users\\susan\\AppData\\Local\\Temp\\ipykernel_2340\\1633527202.py:12: FutureWarning: The frame.append method is deprecated and will be removed from pandas in a future version. Use pandas.concat instead.\n",
      "  temp = temp.append(pd.Series(word_vec), ignore_index = True) # if word is present then append it to temporary dataframe\n",
      "C:\\Users\\susan\\AppData\\Local\\Temp\\ipykernel_2340\\1633527202.py:16: FutureWarning: The frame.append method is deprecated and will be removed from pandas in a future version. Use pandas.concat instead.\n",
      "  docs_vectors = docs_vectors.append(doc_vector, ignore_index = True) # append each document value to the final dataframe\n",
      "C:\\Users\\susan\\AppData\\Local\\Temp\\ipykernel_2340\\1633527202.py:12: FutureWarning: The frame.append method is deprecated and will be removed from pandas in a future version. Use pandas.concat instead.\n",
      "  temp = temp.append(pd.Series(word_vec), ignore_index = True) # if word is present then append it to temporary dataframe\n",
      "C:\\Users\\susan\\AppData\\Local\\Temp\\ipykernel_2340\\1633527202.py:12: FutureWarning: The frame.append method is deprecated and will be removed from pandas in a future version. Use pandas.concat instead.\n",
      "  temp = temp.append(pd.Series(word_vec), ignore_index = True) # if word is present then append it to temporary dataframe\n",
      "C:\\Users\\susan\\AppData\\Local\\Temp\\ipykernel_2340\\1633527202.py:16: FutureWarning: The frame.append method is deprecated and will be removed from pandas in a future version. Use pandas.concat instead.\n",
      "  docs_vectors = docs_vectors.append(doc_vector, ignore_index = True) # append each document value to the final dataframe\n",
      "C:\\Users\\susan\\AppData\\Local\\Temp\\ipykernel_2340\\1633527202.py:12: FutureWarning: The frame.append method is deprecated and will be removed from pandas in a future version. Use pandas.concat instead.\n",
      "  temp = temp.append(pd.Series(word_vec), ignore_index = True) # if word is present then append it to temporary dataframe\n",
      "C:\\Users\\susan\\AppData\\Local\\Temp\\ipykernel_2340\\1633527202.py:12: FutureWarning: The frame.append method is deprecated and will be removed from pandas in a future version. Use pandas.concat instead.\n",
      "  temp = temp.append(pd.Series(word_vec), ignore_index = True) # if word is present then append it to temporary dataframe\n"
     ]
    },
    {
     "name": "stderr",
     "output_type": "stream",
     "text": [
      "C:\\Users\\susan\\AppData\\Local\\Temp\\ipykernel_2340\\1633527202.py:16: FutureWarning: The frame.append method is deprecated and will be removed from pandas in a future version. Use pandas.concat instead.\n",
      "  docs_vectors = docs_vectors.append(doc_vector, ignore_index = True) # append each document value to the final dataframe\n",
      "C:\\Users\\susan\\AppData\\Local\\Temp\\ipykernel_2340\\1633527202.py:12: FutureWarning: The frame.append method is deprecated and will be removed from pandas in a future version. Use pandas.concat instead.\n",
      "  temp = temp.append(pd.Series(word_vec), ignore_index = True) # if word is present then append it to temporary dataframe\n",
      "C:\\Users\\susan\\AppData\\Local\\Temp\\ipykernel_2340\\1633527202.py:12: FutureWarning: The frame.append method is deprecated and will be removed from pandas in a future version. Use pandas.concat instead.\n",
      "  temp = temp.append(pd.Series(word_vec), ignore_index = True) # if word is present then append it to temporary dataframe\n",
      "C:\\Users\\susan\\AppData\\Local\\Temp\\ipykernel_2340\\1633527202.py:16: FutureWarning: The frame.append method is deprecated and will be removed from pandas in a future version. Use pandas.concat instead.\n",
      "  docs_vectors = docs_vectors.append(doc_vector, ignore_index = True) # append each document value to the final dataframe\n",
      "C:\\Users\\susan\\AppData\\Local\\Temp\\ipykernel_2340\\1633527202.py:12: FutureWarning: The frame.append method is deprecated and will be removed from pandas in a future version. Use pandas.concat instead.\n",
      "  temp = temp.append(pd.Series(word_vec), ignore_index = True) # if word is present then append it to temporary dataframe\n",
      "C:\\Users\\susan\\AppData\\Local\\Temp\\ipykernel_2340\\1633527202.py:12: FutureWarning: The frame.append method is deprecated and will be removed from pandas in a future version. Use pandas.concat instead.\n",
      "  temp = temp.append(pd.Series(word_vec), ignore_index = True) # if word is present then append it to temporary dataframe\n",
      "C:\\Users\\susan\\AppData\\Local\\Temp\\ipykernel_2340\\1633527202.py:16: FutureWarning: The frame.append method is deprecated and will be removed from pandas in a future version. Use pandas.concat instead.\n",
      "  docs_vectors = docs_vectors.append(doc_vector, ignore_index = True) # append each document value to the final dataframe\n",
      "C:\\Users\\susan\\AppData\\Local\\Temp\\ipykernel_2340\\1633527202.py:12: FutureWarning: The frame.append method is deprecated and will be removed from pandas in a future version. Use pandas.concat instead.\n",
      "  temp = temp.append(pd.Series(word_vec), ignore_index = True) # if word is present then append it to temporary dataframe\n",
      "C:\\Users\\susan\\AppData\\Local\\Temp\\ipykernel_2340\\1633527202.py:12: FutureWarning: The frame.append method is deprecated and will be removed from pandas in a future version. Use pandas.concat instead.\n",
      "  temp = temp.append(pd.Series(word_vec), ignore_index = True) # if word is present then append it to temporary dataframe\n",
      "C:\\Users\\susan\\AppData\\Local\\Temp\\ipykernel_2340\\1633527202.py:16: FutureWarning: The frame.append method is deprecated and will be removed from pandas in a future version. Use pandas.concat instead.\n",
      "  docs_vectors = docs_vectors.append(doc_vector, ignore_index = True) # append each document value to the final dataframe\n",
      "C:\\Users\\susan\\AppData\\Local\\Temp\\ipykernel_2340\\1633527202.py:12: FutureWarning: The frame.append method is deprecated and will be removed from pandas in a future version. Use pandas.concat instead.\n",
      "  temp = temp.append(pd.Series(word_vec), ignore_index = True) # if word is present then append it to temporary dataframe\n",
      "C:\\Users\\susan\\AppData\\Local\\Temp\\ipykernel_2340\\1633527202.py:12: FutureWarning: The frame.append method is deprecated and will be removed from pandas in a future version. Use pandas.concat instead.\n",
      "  temp = temp.append(pd.Series(word_vec), ignore_index = True) # if word is present then append it to temporary dataframe\n",
      "C:\\Users\\susan\\AppData\\Local\\Temp\\ipykernel_2340\\1633527202.py:16: FutureWarning: The frame.append method is deprecated and will be removed from pandas in a future version. Use pandas.concat instead.\n",
      "  docs_vectors = docs_vectors.append(doc_vector, ignore_index = True) # append each document value to the final dataframe\n",
      "C:\\Users\\susan\\AppData\\Local\\Temp\\ipykernel_2340\\1633527202.py:12: FutureWarning: The frame.append method is deprecated and will be removed from pandas in a future version. Use pandas.concat instead.\n",
      "  temp = temp.append(pd.Series(word_vec), ignore_index = True) # if word is present then append it to temporary dataframe\n",
      "C:\\Users\\susan\\AppData\\Local\\Temp\\ipykernel_2340\\1633527202.py:12: FutureWarning: The frame.append method is deprecated and will be removed from pandas in a future version. Use pandas.concat instead.\n",
      "  temp = temp.append(pd.Series(word_vec), ignore_index = True) # if word is present then append it to temporary dataframe\n",
      "C:\\Users\\susan\\AppData\\Local\\Temp\\ipykernel_2340\\1633527202.py:16: FutureWarning: The frame.append method is deprecated and will be removed from pandas in a future version. Use pandas.concat instead.\n",
      "  docs_vectors = docs_vectors.append(doc_vector, ignore_index = True) # append each document value to the final dataframe\n",
      "C:\\Users\\susan\\AppData\\Local\\Temp\\ipykernel_2340\\1633527202.py:12: FutureWarning: The frame.append method is deprecated and will be removed from pandas in a future version. Use pandas.concat instead.\n",
      "  temp = temp.append(pd.Series(word_vec), ignore_index = True) # if word is present then append it to temporary dataframe\n",
      "C:\\Users\\susan\\AppData\\Local\\Temp\\ipykernel_2340\\1633527202.py:12: FutureWarning: The frame.append method is deprecated and will be removed from pandas in a future version. Use pandas.concat instead.\n",
      "  temp = temp.append(pd.Series(word_vec), ignore_index = True) # if word is present then append it to temporary dataframe\n",
      "C:\\Users\\susan\\AppData\\Local\\Temp\\ipykernel_2340\\1633527202.py:16: FutureWarning: The frame.append method is deprecated and will be removed from pandas in a future version. Use pandas.concat instead.\n",
      "  docs_vectors = docs_vectors.append(doc_vector, ignore_index = True) # append each document value to the final dataframe\n",
      "C:\\Users\\susan\\AppData\\Local\\Temp\\ipykernel_2340\\1633527202.py:12: FutureWarning: The frame.append method is deprecated and will be removed from pandas in a future version. Use pandas.concat instead.\n",
      "  temp = temp.append(pd.Series(word_vec), ignore_index = True) # if word is present then append it to temporary dataframe\n",
      "C:\\Users\\susan\\AppData\\Local\\Temp\\ipykernel_2340\\1633527202.py:12: FutureWarning: The frame.append method is deprecated and will be removed from pandas in a future version. Use pandas.concat instead.\n",
      "  temp = temp.append(pd.Series(word_vec), ignore_index = True) # if word is present then append it to temporary dataframe\n",
      "C:\\Users\\susan\\AppData\\Local\\Temp\\ipykernel_2340\\1633527202.py:16: FutureWarning: The frame.append method is deprecated and will be removed from pandas in a future version. Use pandas.concat instead.\n",
      "  docs_vectors = docs_vectors.append(doc_vector, ignore_index = True) # append each document value to the final dataframe\n",
      "C:\\Users\\susan\\AppData\\Local\\Temp\\ipykernel_2340\\1633527202.py:12: FutureWarning: The frame.append method is deprecated and will be removed from pandas in a future version. Use pandas.concat instead.\n",
      "  temp = temp.append(pd.Series(word_vec), ignore_index = True) # if word is present then append it to temporary dataframe\n",
      "C:\\Users\\susan\\AppData\\Local\\Temp\\ipykernel_2340\\1633527202.py:12: FutureWarning: The frame.append method is deprecated and will be removed from pandas in a future version. Use pandas.concat instead.\n",
      "  temp = temp.append(pd.Series(word_vec), ignore_index = True) # if word is present then append it to temporary dataframe\n",
      "C:\\Users\\susan\\AppData\\Local\\Temp\\ipykernel_2340\\1633527202.py:16: FutureWarning: The frame.append method is deprecated and will be removed from pandas in a future version. Use pandas.concat instead.\n",
      "  docs_vectors = docs_vectors.append(doc_vector, ignore_index = True) # append each document value to the final dataframe\n",
      "C:\\Users\\susan\\AppData\\Local\\Temp\\ipykernel_2340\\1633527202.py:12: FutureWarning: The frame.append method is deprecated and will be removed from pandas in a future version. Use pandas.concat instead.\n",
      "  temp = temp.append(pd.Series(word_vec), ignore_index = True) # if word is present then append it to temporary dataframe\n",
      "C:\\Users\\susan\\AppData\\Local\\Temp\\ipykernel_2340\\1633527202.py:12: FutureWarning: The frame.append method is deprecated and will be removed from pandas in a future version. Use pandas.concat instead.\n",
      "  temp = temp.append(pd.Series(word_vec), ignore_index = True) # if word is present then append it to temporary dataframe\n"
     ]
    },
    {
     "name": "stderr",
     "output_type": "stream",
     "text": [
      "C:\\Users\\susan\\AppData\\Local\\Temp\\ipykernel_2340\\1633527202.py:16: FutureWarning: The frame.append method is deprecated and will be removed from pandas in a future version. Use pandas.concat instead.\n",
      "  docs_vectors = docs_vectors.append(doc_vector, ignore_index = True) # append each document value to the final dataframe\n",
      "C:\\Users\\susan\\AppData\\Local\\Temp\\ipykernel_2340\\1633527202.py:12: FutureWarning: The frame.append method is deprecated and will be removed from pandas in a future version. Use pandas.concat instead.\n",
      "  temp = temp.append(pd.Series(word_vec), ignore_index = True) # if word is present then append it to temporary dataframe\n",
      "C:\\Users\\susan\\AppData\\Local\\Temp\\ipykernel_2340\\1633527202.py:12: FutureWarning: The frame.append method is deprecated and will be removed from pandas in a future version. Use pandas.concat instead.\n",
      "  temp = temp.append(pd.Series(word_vec), ignore_index = True) # if word is present then append it to temporary dataframe\n",
      "C:\\Users\\susan\\AppData\\Local\\Temp\\ipykernel_2340\\1633527202.py:16: FutureWarning: The frame.append method is deprecated and will be removed from pandas in a future version. Use pandas.concat instead.\n",
      "  docs_vectors = docs_vectors.append(doc_vector, ignore_index = True) # append each document value to the final dataframe\n",
      "C:\\Users\\susan\\AppData\\Local\\Temp\\ipykernel_2340\\1633527202.py:12: FutureWarning: The frame.append method is deprecated and will be removed from pandas in a future version. Use pandas.concat instead.\n",
      "  temp = temp.append(pd.Series(word_vec), ignore_index = True) # if word is present then append it to temporary dataframe\n",
      "C:\\Users\\susan\\AppData\\Local\\Temp\\ipykernel_2340\\1633527202.py:12: FutureWarning: The frame.append method is deprecated and will be removed from pandas in a future version. Use pandas.concat instead.\n",
      "  temp = temp.append(pd.Series(word_vec), ignore_index = True) # if word is present then append it to temporary dataframe\n",
      "C:\\Users\\susan\\AppData\\Local\\Temp\\ipykernel_2340\\1633527202.py:16: FutureWarning: The frame.append method is deprecated and will be removed from pandas in a future version. Use pandas.concat instead.\n",
      "  docs_vectors = docs_vectors.append(doc_vector, ignore_index = True) # append each document value to the final dataframe\n",
      "C:\\Users\\susan\\AppData\\Local\\Temp\\ipykernel_2340\\1633527202.py:12: FutureWarning: The frame.append method is deprecated and will be removed from pandas in a future version. Use pandas.concat instead.\n",
      "  temp = temp.append(pd.Series(word_vec), ignore_index = True) # if word is present then append it to temporary dataframe\n",
      "C:\\Users\\susan\\AppData\\Local\\Temp\\ipykernel_2340\\1633527202.py:12: FutureWarning: The frame.append method is deprecated and will be removed from pandas in a future version. Use pandas.concat instead.\n",
      "  temp = temp.append(pd.Series(word_vec), ignore_index = True) # if word is present then append it to temporary dataframe\n",
      "C:\\Users\\susan\\AppData\\Local\\Temp\\ipykernel_2340\\1633527202.py:16: FutureWarning: The frame.append method is deprecated and will be removed from pandas in a future version. Use pandas.concat instead.\n",
      "  docs_vectors = docs_vectors.append(doc_vector, ignore_index = True) # append each document value to the final dataframe\n",
      "C:\\Users\\susan\\AppData\\Local\\Temp\\ipykernel_2340\\1633527202.py:12: FutureWarning: The frame.append method is deprecated and will be removed from pandas in a future version. Use pandas.concat instead.\n",
      "  temp = temp.append(pd.Series(word_vec), ignore_index = True) # if word is present then append it to temporary dataframe\n",
      "C:\\Users\\susan\\AppData\\Local\\Temp\\ipykernel_2340\\1633527202.py:12: FutureWarning: The frame.append method is deprecated and will be removed from pandas in a future version. Use pandas.concat instead.\n",
      "  temp = temp.append(pd.Series(word_vec), ignore_index = True) # if word is present then append it to temporary dataframe\n",
      "C:\\Users\\susan\\AppData\\Local\\Temp\\ipykernel_2340\\1633527202.py:16: FutureWarning: The frame.append method is deprecated and will be removed from pandas in a future version. Use pandas.concat instead.\n",
      "  docs_vectors = docs_vectors.append(doc_vector, ignore_index = True) # append each document value to the final dataframe\n",
      "C:\\Users\\susan\\AppData\\Local\\Temp\\ipykernel_2340\\1633527202.py:12: FutureWarning: The frame.append method is deprecated and will be removed from pandas in a future version. Use pandas.concat instead.\n",
      "  temp = temp.append(pd.Series(word_vec), ignore_index = True) # if word is present then append it to temporary dataframe\n",
      "C:\\Users\\susan\\AppData\\Local\\Temp\\ipykernel_2340\\1633527202.py:12: FutureWarning: The frame.append method is deprecated and will be removed from pandas in a future version. Use pandas.concat instead.\n",
      "  temp = temp.append(pd.Series(word_vec), ignore_index = True) # if word is present then append it to temporary dataframe\n",
      "C:\\Users\\susan\\AppData\\Local\\Temp\\ipykernel_2340\\1633527202.py:16: FutureWarning: The frame.append method is deprecated and will be removed from pandas in a future version. Use pandas.concat instead.\n",
      "  docs_vectors = docs_vectors.append(doc_vector, ignore_index = True) # append each document value to the final dataframe\n",
      "C:\\Users\\susan\\AppData\\Local\\Temp\\ipykernel_2340\\1633527202.py:12: FutureWarning: The frame.append method is deprecated and will be removed from pandas in a future version. Use pandas.concat instead.\n",
      "  temp = temp.append(pd.Series(word_vec), ignore_index = True) # if word is present then append it to temporary dataframe\n",
      "C:\\Users\\susan\\AppData\\Local\\Temp\\ipykernel_2340\\1633527202.py:12: FutureWarning: The frame.append method is deprecated and will be removed from pandas in a future version. Use pandas.concat instead.\n",
      "  temp = temp.append(pd.Series(word_vec), ignore_index = True) # if word is present then append it to temporary dataframe\n",
      "C:\\Users\\susan\\AppData\\Local\\Temp\\ipykernel_2340\\1633527202.py:16: FutureWarning: The frame.append method is deprecated and will be removed from pandas in a future version. Use pandas.concat instead.\n",
      "  docs_vectors = docs_vectors.append(doc_vector, ignore_index = True) # append each document value to the final dataframe\n",
      "C:\\Users\\susan\\AppData\\Local\\Temp\\ipykernel_2340\\1633527202.py:12: FutureWarning: The frame.append method is deprecated and will be removed from pandas in a future version. Use pandas.concat instead.\n",
      "  temp = temp.append(pd.Series(word_vec), ignore_index = True) # if word is present then append it to temporary dataframe\n",
      "C:\\Users\\susan\\AppData\\Local\\Temp\\ipykernel_2340\\1633527202.py:12: FutureWarning: The frame.append method is deprecated and will be removed from pandas in a future version. Use pandas.concat instead.\n",
      "  temp = temp.append(pd.Series(word_vec), ignore_index = True) # if word is present then append it to temporary dataframe\n",
      "C:\\Users\\susan\\AppData\\Local\\Temp\\ipykernel_2340\\1633527202.py:16: FutureWarning: The frame.append method is deprecated and will be removed from pandas in a future version. Use pandas.concat instead.\n",
      "  docs_vectors = docs_vectors.append(doc_vector, ignore_index = True) # append each document value to the final dataframe\n",
      "C:\\Users\\susan\\AppData\\Local\\Temp\\ipykernel_2340\\1633527202.py:12: FutureWarning: The frame.append method is deprecated and will be removed from pandas in a future version. Use pandas.concat instead.\n",
      "  temp = temp.append(pd.Series(word_vec), ignore_index = True) # if word is present then append it to temporary dataframe\n",
      "C:\\Users\\susan\\AppData\\Local\\Temp\\ipykernel_2340\\1633527202.py:12: FutureWarning: The frame.append method is deprecated and will be removed from pandas in a future version. Use pandas.concat instead.\n",
      "  temp = temp.append(pd.Series(word_vec), ignore_index = True) # if word is present then append it to temporary dataframe\n",
      "C:\\Users\\susan\\AppData\\Local\\Temp\\ipykernel_2340\\1633527202.py:16: FutureWarning: The frame.append method is deprecated and will be removed from pandas in a future version. Use pandas.concat instead.\n",
      "  docs_vectors = docs_vectors.append(doc_vector, ignore_index = True) # append each document value to the final dataframe\n",
      "C:\\Users\\susan\\AppData\\Local\\Temp\\ipykernel_2340\\1633527202.py:12: FutureWarning: The frame.append method is deprecated and will be removed from pandas in a future version. Use pandas.concat instead.\n",
      "  temp = temp.append(pd.Series(word_vec), ignore_index = True) # if word is present then append it to temporary dataframe\n",
      "C:\\Users\\susan\\AppData\\Local\\Temp\\ipykernel_2340\\1633527202.py:12: FutureWarning: The frame.append method is deprecated and will be removed from pandas in a future version. Use pandas.concat instead.\n",
      "  temp = temp.append(pd.Series(word_vec), ignore_index = True) # if word is present then append it to temporary dataframe\n"
     ]
    },
    {
     "name": "stderr",
     "output_type": "stream",
     "text": [
      "C:\\Users\\susan\\AppData\\Local\\Temp\\ipykernel_2340\\1633527202.py:16: FutureWarning: The frame.append method is deprecated and will be removed from pandas in a future version. Use pandas.concat instead.\n",
      "  docs_vectors = docs_vectors.append(doc_vector, ignore_index = True) # append each document value to the final dataframe\n",
      "C:\\Users\\susan\\AppData\\Local\\Temp\\ipykernel_2340\\1633527202.py:12: FutureWarning: The frame.append method is deprecated and will be removed from pandas in a future version. Use pandas.concat instead.\n",
      "  temp = temp.append(pd.Series(word_vec), ignore_index = True) # if word is present then append it to temporary dataframe\n",
      "C:\\Users\\susan\\AppData\\Local\\Temp\\ipykernel_2340\\1633527202.py:12: FutureWarning: The frame.append method is deprecated and will be removed from pandas in a future version. Use pandas.concat instead.\n",
      "  temp = temp.append(pd.Series(word_vec), ignore_index = True) # if word is present then append it to temporary dataframe\n",
      "C:\\Users\\susan\\AppData\\Local\\Temp\\ipykernel_2340\\1633527202.py:16: FutureWarning: The frame.append method is deprecated and will be removed from pandas in a future version. Use pandas.concat instead.\n",
      "  docs_vectors = docs_vectors.append(doc_vector, ignore_index = True) # append each document value to the final dataframe\n",
      "C:\\Users\\susan\\AppData\\Local\\Temp\\ipykernel_2340\\1633527202.py:12: FutureWarning: The frame.append method is deprecated and will be removed from pandas in a future version. Use pandas.concat instead.\n",
      "  temp = temp.append(pd.Series(word_vec), ignore_index = True) # if word is present then append it to temporary dataframe\n",
      "C:\\Users\\susan\\AppData\\Local\\Temp\\ipykernel_2340\\1633527202.py:12: FutureWarning: The frame.append method is deprecated and will be removed from pandas in a future version. Use pandas.concat instead.\n",
      "  temp = temp.append(pd.Series(word_vec), ignore_index = True) # if word is present then append it to temporary dataframe\n",
      "C:\\Users\\susan\\AppData\\Local\\Temp\\ipykernel_2340\\1633527202.py:16: FutureWarning: The frame.append method is deprecated and will be removed from pandas in a future version. Use pandas.concat instead.\n",
      "  docs_vectors = docs_vectors.append(doc_vector, ignore_index = True) # append each document value to the final dataframe\n",
      "C:\\Users\\susan\\AppData\\Local\\Temp\\ipykernel_2340\\1633527202.py:12: FutureWarning: The frame.append method is deprecated and will be removed from pandas in a future version. Use pandas.concat instead.\n",
      "  temp = temp.append(pd.Series(word_vec), ignore_index = True) # if word is present then append it to temporary dataframe\n",
      "C:\\Users\\susan\\AppData\\Local\\Temp\\ipykernel_2340\\1633527202.py:12: FutureWarning: The frame.append method is deprecated and will be removed from pandas in a future version. Use pandas.concat instead.\n",
      "  temp = temp.append(pd.Series(word_vec), ignore_index = True) # if word is present then append it to temporary dataframe\n",
      "C:\\Users\\susan\\AppData\\Local\\Temp\\ipykernel_2340\\1633527202.py:16: FutureWarning: The frame.append method is deprecated and will be removed from pandas in a future version. Use pandas.concat instead.\n",
      "  docs_vectors = docs_vectors.append(doc_vector, ignore_index = True) # append each document value to the final dataframe\n",
      "C:\\Users\\susan\\AppData\\Local\\Temp\\ipykernel_2340\\1633527202.py:12: FutureWarning: The frame.append method is deprecated and will be removed from pandas in a future version. Use pandas.concat instead.\n",
      "  temp = temp.append(pd.Series(word_vec), ignore_index = True) # if word is present then append it to temporary dataframe\n",
      "C:\\Users\\susan\\AppData\\Local\\Temp\\ipykernel_2340\\1633527202.py:12: FutureWarning: The frame.append method is deprecated and will be removed from pandas in a future version. Use pandas.concat instead.\n",
      "  temp = temp.append(pd.Series(word_vec), ignore_index = True) # if word is present then append it to temporary dataframe\n",
      "C:\\Users\\susan\\AppData\\Local\\Temp\\ipykernel_2340\\1633527202.py:16: FutureWarning: The frame.append method is deprecated and will be removed from pandas in a future version. Use pandas.concat instead.\n",
      "  docs_vectors = docs_vectors.append(doc_vector, ignore_index = True) # append each document value to the final dataframe\n",
      "C:\\Users\\susan\\AppData\\Local\\Temp\\ipykernel_2340\\1633527202.py:12: FutureWarning: The frame.append method is deprecated and will be removed from pandas in a future version. Use pandas.concat instead.\n",
      "  temp = temp.append(pd.Series(word_vec), ignore_index = True) # if word is present then append it to temporary dataframe\n",
      "C:\\Users\\susan\\AppData\\Local\\Temp\\ipykernel_2340\\1633527202.py:12: FutureWarning: The frame.append method is deprecated and will be removed from pandas in a future version. Use pandas.concat instead.\n",
      "  temp = temp.append(pd.Series(word_vec), ignore_index = True) # if word is present then append it to temporary dataframe\n",
      "C:\\Users\\susan\\AppData\\Local\\Temp\\ipykernel_2340\\1633527202.py:16: FutureWarning: The frame.append method is deprecated and will be removed from pandas in a future version. Use pandas.concat instead.\n",
      "  docs_vectors = docs_vectors.append(doc_vector, ignore_index = True) # append each document value to the final dataframe\n",
      "C:\\Users\\susan\\AppData\\Local\\Temp\\ipykernel_2340\\1633527202.py:12: FutureWarning: The frame.append method is deprecated and will be removed from pandas in a future version. Use pandas.concat instead.\n",
      "  temp = temp.append(pd.Series(word_vec), ignore_index = True) # if word is present then append it to temporary dataframe\n",
      "C:\\Users\\susan\\AppData\\Local\\Temp\\ipykernel_2340\\1633527202.py:12: FutureWarning: The frame.append method is deprecated and will be removed from pandas in a future version. Use pandas.concat instead.\n",
      "  temp = temp.append(pd.Series(word_vec), ignore_index = True) # if word is present then append it to temporary dataframe\n",
      "C:\\Users\\susan\\AppData\\Local\\Temp\\ipykernel_2340\\1633527202.py:16: FutureWarning: The frame.append method is deprecated and will be removed from pandas in a future version. Use pandas.concat instead.\n",
      "  docs_vectors = docs_vectors.append(doc_vector, ignore_index = True) # append each document value to the final dataframe\n",
      "C:\\Users\\susan\\AppData\\Local\\Temp\\ipykernel_2340\\1633527202.py:12: FutureWarning: The frame.append method is deprecated and will be removed from pandas in a future version. Use pandas.concat instead.\n",
      "  temp = temp.append(pd.Series(word_vec), ignore_index = True) # if word is present then append it to temporary dataframe\n",
      "C:\\Users\\susan\\AppData\\Local\\Temp\\ipykernel_2340\\1633527202.py:12: FutureWarning: The frame.append method is deprecated and will be removed from pandas in a future version. Use pandas.concat instead.\n",
      "  temp = temp.append(pd.Series(word_vec), ignore_index = True) # if word is present then append it to temporary dataframe\n",
      "C:\\Users\\susan\\AppData\\Local\\Temp\\ipykernel_2340\\1633527202.py:16: FutureWarning: The frame.append method is deprecated and will be removed from pandas in a future version. Use pandas.concat instead.\n",
      "  docs_vectors = docs_vectors.append(doc_vector, ignore_index = True) # append each document value to the final dataframe\n",
      "C:\\Users\\susan\\AppData\\Local\\Temp\\ipykernel_2340\\1633527202.py:12: FutureWarning: The frame.append method is deprecated and will be removed from pandas in a future version. Use pandas.concat instead.\n",
      "  temp = temp.append(pd.Series(word_vec), ignore_index = True) # if word is present then append it to temporary dataframe\n",
      "C:\\Users\\susan\\AppData\\Local\\Temp\\ipykernel_2340\\1633527202.py:12: FutureWarning: The frame.append method is deprecated and will be removed from pandas in a future version. Use pandas.concat instead.\n",
      "  temp = temp.append(pd.Series(word_vec), ignore_index = True) # if word is present then append it to temporary dataframe\n",
      "C:\\Users\\susan\\AppData\\Local\\Temp\\ipykernel_2340\\1633527202.py:16: FutureWarning: The frame.append method is deprecated and will be removed from pandas in a future version. Use pandas.concat instead.\n",
      "  docs_vectors = docs_vectors.append(doc_vector, ignore_index = True) # append each document value to the final dataframe\n",
      "C:\\Users\\susan\\AppData\\Local\\Temp\\ipykernel_2340\\1633527202.py:12: FutureWarning: The frame.append method is deprecated and will be removed from pandas in a future version. Use pandas.concat instead.\n",
      "  temp = temp.append(pd.Series(word_vec), ignore_index = True) # if word is present then append it to temporary dataframe\n",
      "C:\\Users\\susan\\AppData\\Local\\Temp\\ipykernel_2340\\1633527202.py:12: FutureWarning: The frame.append method is deprecated and will be removed from pandas in a future version. Use pandas.concat instead.\n",
      "  temp = temp.append(pd.Series(word_vec), ignore_index = True) # if word is present then append it to temporary dataframe\n"
     ]
    },
    {
     "name": "stderr",
     "output_type": "stream",
     "text": [
      "C:\\Users\\susan\\AppData\\Local\\Temp\\ipykernel_2340\\1633527202.py:16: FutureWarning: The frame.append method is deprecated and will be removed from pandas in a future version. Use pandas.concat instead.\n",
      "  docs_vectors = docs_vectors.append(doc_vector, ignore_index = True) # append each document value to the final dataframe\n",
      "C:\\Users\\susan\\AppData\\Local\\Temp\\ipykernel_2340\\1633527202.py:12: FutureWarning: The frame.append method is deprecated and will be removed from pandas in a future version. Use pandas.concat instead.\n",
      "  temp = temp.append(pd.Series(word_vec), ignore_index = True) # if word is present then append it to temporary dataframe\n",
      "C:\\Users\\susan\\AppData\\Local\\Temp\\ipykernel_2340\\1633527202.py:12: FutureWarning: The frame.append method is deprecated and will be removed from pandas in a future version. Use pandas.concat instead.\n",
      "  temp = temp.append(pd.Series(word_vec), ignore_index = True) # if word is present then append it to temporary dataframe\n",
      "C:\\Users\\susan\\AppData\\Local\\Temp\\ipykernel_2340\\1633527202.py:16: FutureWarning: The frame.append method is deprecated and will be removed from pandas in a future version. Use pandas.concat instead.\n",
      "  docs_vectors = docs_vectors.append(doc_vector, ignore_index = True) # append each document value to the final dataframe\n",
      "C:\\Users\\susan\\AppData\\Local\\Temp\\ipykernel_2340\\1633527202.py:12: FutureWarning: The frame.append method is deprecated and will be removed from pandas in a future version. Use pandas.concat instead.\n",
      "  temp = temp.append(pd.Series(word_vec), ignore_index = True) # if word is present then append it to temporary dataframe\n",
      "C:\\Users\\susan\\AppData\\Local\\Temp\\ipykernel_2340\\1633527202.py:12: FutureWarning: The frame.append method is deprecated and will be removed from pandas in a future version. Use pandas.concat instead.\n",
      "  temp = temp.append(pd.Series(word_vec), ignore_index = True) # if word is present then append it to temporary dataframe\n",
      "C:\\Users\\susan\\AppData\\Local\\Temp\\ipykernel_2340\\1633527202.py:16: FutureWarning: The frame.append method is deprecated and will be removed from pandas in a future version. Use pandas.concat instead.\n",
      "  docs_vectors = docs_vectors.append(doc_vector, ignore_index = True) # append each document value to the final dataframe\n",
      "C:\\Users\\susan\\AppData\\Local\\Temp\\ipykernel_2340\\1633527202.py:12: FutureWarning: The frame.append method is deprecated and will be removed from pandas in a future version. Use pandas.concat instead.\n",
      "  temp = temp.append(pd.Series(word_vec), ignore_index = True) # if word is present then append it to temporary dataframe\n",
      "C:\\Users\\susan\\AppData\\Local\\Temp\\ipykernel_2340\\1633527202.py:12: FutureWarning: The frame.append method is deprecated and will be removed from pandas in a future version. Use pandas.concat instead.\n",
      "  temp = temp.append(pd.Series(word_vec), ignore_index = True) # if word is present then append it to temporary dataframe\n",
      "C:\\Users\\susan\\AppData\\Local\\Temp\\ipykernel_2340\\1633527202.py:16: FutureWarning: The frame.append method is deprecated and will be removed from pandas in a future version. Use pandas.concat instead.\n",
      "  docs_vectors = docs_vectors.append(doc_vector, ignore_index = True) # append each document value to the final dataframe\n",
      "C:\\Users\\susan\\AppData\\Local\\Temp\\ipykernel_2340\\1633527202.py:12: FutureWarning: The frame.append method is deprecated and will be removed from pandas in a future version. Use pandas.concat instead.\n",
      "  temp = temp.append(pd.Series(word_vec), ignore_index = True) # if word is present then append it to temporary dataframe\n",
      "C:\\Users\\susan\\AppData\\Local\\Temp\\ipykernel_2340\\1633527202.py:12: FutureWarning: The frame.append method is deprecated and will be removed from pandas in a future version. Use pandas.concat instead.\n",
      "  temp = temp.append(pd.Series(word_vec), ignore_index = True) # if word is present then append it to temporary dataframe\n",
      "C:\\Users\\susan\\AppData\\Local\\Temp\\ipykernel_2340\\1633527202.py:16: FutureWarning: The frame.append method is deprecated and will be removed from pandas in a future version. Use pandas.concat instead.\n",
      "  docs_vectors = docs_vectors.append(doc_vector, ignore_index = True) # append each document value to the final dataframe\n",
      "C:\\Users\\susan\\AppData\\Local\\Temp\\ipykernel_2340\\1633527202.py:12: FutureWarning: The frame.append method is deprecated and will be removed from pandas in a future version. Use pandas.concat instead.\n",
      "  temp = temp.append(pd.Series(word_vec), ignore_index = True) # if word is present then append it to temporary dataframe\n",
      "C:\\Users\\susan\\AppData\\Local\\Temp\\ipykernel_2340\\1633527202.py:12: FutureWarning: The frame.append method is deprecated and will be removed from pandas in a future version. Use pandas.concat instead.\n",
      "  temp = temp.append(pd.Series(word_vec), ignore_index = True) # if word is present then append it to temporary dataframe\n",
      "C:\\Users\\susan\\AppData\\Local\\Temp\\ipykernel_2340\\1633527202.py:16: FutureWarning: The frame.append method is deprecated and will be removed from pandas in a future version. Use pandas.concat instead.\n",
      "  docs_vectors = docs_vectors.append(doc_vector, ignore_index = True) # append each document value to the final dataframe\n",
      "C:\\Users\\susan\\AppData\\Local\\Temp\\ipykernel_2340\\1633527202.py:12: FutureWarning: The frame.append method is deprecated and will be removed from pandas in a future version. Use pandas.concat instead.\n",
      "  temp = temp.append(pd.Series(word_vec), ignore_index = True) # if word is present then append it to temporary dataframe\n",
      "C:\\Users\\susan\\AppData\\Local\\Temp\\ipykernel_2340\\1633527202.py:12: FutureWarning: The frame.append method is deprecated and will be removed from pandas in a future version. Use pandas.concat instead.\n",
      "  temp = temp.append(pd.Series(word_vec), ignore_index = True) # if word is present then append it to temporary dataframe\n",
      "C:\\Users\\susan\\AppData\\Local\\Temp\\ipykernel_2340\\1633527202.py:16: FutureWarning: The frame.append method is deprecated and will be removed from pandas in a future version. Use pandas.concat instead.\n",
      "  docs_vectors = docs_vectors.append(doc_vector, ignore_index = True) # append each document value to the final dataframe\n",
      "C:\\Users\\susan\\AppData\\Local\\Temp\\ipykernel_2340\\1633527202.py:12: FutureWarning: The frame.append method is deprecated and will be removed from pandas in a future version. Use pandas.concat instead.\n",
      "  temp = temp.append(pd.Series(word_vec), ignore_index = True) # if word is present then append it to temporary dataframe\n",
      "C:\\Users\\susan\\AppData\\Local\\Temp\\ipykernel_2340\\1633527202.py:12: FutureWarning: The frame.append method is deprecated and will be removed from pandas in a future version. Use pandas.concat instead.\n",
      "  temp = temp.append(pd.Series(word_vec), ignore_index = True) # if word is present then append it to temporary dataframe\n",
      "C:\\Users\\susan\\AppData\\Local\\Temp\\ipykernel_2340\\1633527202.py:16: FutureWarning: The frame.append method is deprecated and will be removed from pandas in a future version. Use pandas.concat instead.\n",
      "  docs_vectors = docs_vectors.append(doc_vector, ignore_index = True) # append each document value to the final dataframe\n",
      "C:\\Users\\susan\\AppData\\Local\\Temp\\ipykernel_2340\\1633527202.py:12: FutureWarning: The frame.append method is deprecated and will be removed from pandas in a future version. Use pandas.concat instead.\n",
      "  temp = temp.append(pd.Series(word_vec), ignore_index = True) # if word is present then append it to temporary dataframe\n",
      "C:\\Users\\susan\\AppData\\Local\\Temp\\ipykernel_2340\\1633527202.py:12: FutureWarning: The frame.append method is deprecated and will be removed from pandas in a future version. Use pandas.concat instead.\n",
      "  temp = temp.append(pd.Series(word_vec), ignore_index = True) # if word is present then append it to temporary dataframe\n",
      "C:\\Users\\susan\\AppData\\Local\\Temp\\ipykernel_2340\\1633527202.py:16: FutureWarning: The frame.append method is deprecated and will be removed from pandas in a future version. Use pandas.concat instead.\n",
      "  docs_vectors = docs_vectors.append(doc_vector, ignore_index = True) # append each document value to the final dataframe\n",
      "C:\\Users\\susan\\AppData\\Local\\Temp\\ipykernel_2340\\1633527202.py:12: FutureWarning: The frame.append method is deprecated and will be removed from pandas in a future version. Use pandas.concat instead.\n",
      "  temp = temp.append(pd.Series(word_vec), ignore_index = True) # if word is present then append it to temporary dataframe\n",
      "C:\\Users\\susan\\AppData\\Local\\Temp\\ipykernel_2340\\1633527202.py:12: FutureWarning: The frame.append method is deprecated and will be removed from pandas in a future version. Use pandas.concat instead.\n",
      "  temp = temp.append(pd.Series(word_vec), ignore_index = True) # if word is present then append it to temporary dataframe\n"
     ]
    },
    {
     "name": "stderr",
     "output_type": "stream",
     "text": [
      "C:\\Users\\susan\\AppData\\Local\\Temp\\ipykernel_2340\\1633527202.py:16: FutureWarning: The frame.append method is deprecated and will be removed from pandas in a future version. Use pandas.concat instead.\n",
      "  docs_vectors = docs_vectors.append(doc_vector, ignore_index = True) # append each document value to the final dataframe\n",
      "C:\\Users\\susan\\AppData\\Local\\Temp\\ipykernel_2340\\1633527202.py:12: FutureWarning: The frame.append method is deprecated and will be removed from pandas in a future version. Use pandas.concat instead.\n",
      "  temp = temp.append(pd.Series(word_vec), ignore_index = True) # if word is present then append it to temporary dataframe\n",
      "C:\\Users\\susan\\AppData\\Local\\Temp\\ipykernel_2340\\1633527202.py:12: FutureWarning: The frame.append method is deprecated and will be removed from pandas in a future version. Use pandas.concat instead.\n",
      "  temp = temp.append(pd.Series(word_vec), ignore_index = True) # if word is present then append it to temporary dataframe\n",
      "C:\\Users\\susan\\AppData\\Local\\Temp\\ipykernel_2340\\1633527202.py:16: FutureWarning: The frame.append method is deprecated and will be removed from pandas in a future version. Use pandas.concat instead.\n",
      "  docs_vectors = docs_vectors.append(doc_vector, ignore_index = True) # append each document value to the final dataframe\n",
      "C:\\Users\\susan\\AppData\\Local\\Temp\\ipykernel_2340\\1633527202.py:12: FutureWarning: The frame.append method is deprecated and will be removed from pandas in a future version. Use pandas.concat instead.\n",
      "  temp = temp.append(pd.Series(word_vec), ignore_index = True) # if word is present then append it to temporary dataframe\n",
      "C:\\Users\\susan\\AppData\\Local\\Temp\\ipykernel_2340\\1633527202.py:12: FutureWarning: The frame.append method is deprecated and will be removed from pandas in a future version. Use pandas.concat instead.\n",
      "  temp = temp.append(pd.Series(word_vec), ignore_index = True) # if word is present then append it to temporary dataframe\n",
      "C:\\Users\\susan\\AppData\\Local\\Temp\\ipykernel_2340\\1633527202.py:16: FutureWarning: The frame.append method is deprecated and will be removed from pandas in a future version. Use pandas.concat instead.\n",
      "  docs_vectors = docs_vectors.append(doc_vector, ignore_index = True) # append each document value to the final dataframe\n",
      "C:\\Users\\susan\\AppData\\Local\\Temp\\ipykernel_2340\\1633527202.py:12: FutureWarning: The frame.append method is deprecated and will be removed from pandas in a future version. Use pandas.concat instead.\n",
      "  temp = temp.append(pd.Series(word_vec), ignore_index = True) # if word is present then append it to temporary dataframe\n",
      "C:\\Users\\susan\\AppData\\Local\\Temp\\ipykernel_2340\\1633527202.py:12: FutureWarning: The frame.append method is deprecated and will be removed from pandas in a future version. Use pandas.concat instead.\n",
      "  temp = temp.append(pd.Series(word_vec), ignore_index = True) # if word is present then append it to temporary dataframe\n",
      "C:\\Users\\susan\\AppData\\Local\\Temp\\ipykernel_2340\\1633527202.py:16: FutureWarning: The frame.append method is deprecated and will be removed from pandas in a future version. Use pandas.concat instead.\n",
      "  docs_vectors = docs_vectors.append(doc_vector, ignore_index = True) # append each document value to the final dataframe\n",
      "C:\\Users\\susan\\AppData\\Local\\Temp\\ipykernel_2340\\1633527202.py:12: FutureWarning: The frame.append method is deprecated and will be removed from pandas in a future version. Use pandas.concat instead.\n",
      "  temp = temp.append(pd.Series(word_vec), ignore_index = True) # if word is present then append it to temporary dataframe\n",
      "C:\\Users\\susan\\AppData\\Local\\Temp\\ipykernel_2340\\1633527202.py:12: FutureWarning: The frame.append method is deprecated and will be removed from pandas in a future version. Use pandas.concat instead.\n",
      "  temp = temp.append(pd.Series(word_vec), ignore_index = True) # if word is present then append it to temporary dataframe\n",
      "C:\\Users\\susan\\AppData\\Local\\Temp\\ipykernel_2340\\1633527202.py:16: FutureWarning: The frame.append method is deprecated and will be removed from pandas in a future version. Use pandas.concat instead.\n",
      "  docs_vectors = docs_vectors.append(doc_vector, ignore_index = True) # append each document value to the final dataframe\n",
      "C:\\Users\\susan\\AppData\\Local\\Temp\\ipykernel_2340\\1633527202.py:12: FutureWarning: The frame.append method is deprecated and will be removed from pandas in a future version. Use pandas.concat instead.\n",
      "  temp = temp.append(pd.Series(word_vec), ignore_index = True) # if word is present then append it to temporary dataframe\n",
      "C:\\Users\\susan\\AppData\\Local\\Temp\\ipykernel_2340\\1633527202.py:12: FutureWarning: The frame.append method is deprecated and will be removed from pandas in a future version. Use pandas.concat instead.\n",
      "  temp = temp.append(pd.Series(word_vec), ignore_index = True) # if word is present then append it to temporary dataframe\n",
      "C:\\Users\\susan\\AppData\\Local\\Temp\\ipykernel_2340\\1633527202.py:16: FutureWarning: The frame.append method is deprecated and will be removed from pandas in a future version. Use pandas.concat instead.\n",
      "  docs_vectors = docs_vectors.append(doc_vector, ignore_index = True) # append each document value to the final dataframe\n",
      "C:\\Users\\susan\\AppData\\Local\\Temp\\ipykernel_2340\\1633527202.py:12: FutureWarning: The frame.append method is deprecated and will be removed from pandas in a future version. Use pandas.concat instead.\n",
      "  temp = temp.append(pd.Series(word_vec), ignore_index = True) # if word is present then append it to temporary dataframe\n",
      "C:\\Users\\susan\\AppData\\Local\\Temp\\ipykernel_2340\\1633527202.py:12: FutureWarning: The frame.append method is deprecated and will be removed from pandas in a future version. Use pandas.concat instead.\n",
      "  temp = temp.append(pd.Series(word_vec), ignore_index = True) # if word is present then append it to temporary dataframe\n",
      "C:\\Users\\susan\\AppData\\Local\\Temp\\ipykernel_2340\\1633527202.py:16: FutureWarning: The frame.append method is deprecated and will be removed from pandas in a future version. Use pandas.concat instead.\n",
      "  docs_vectors = docs_vectors.append(doc_vector, ignore_index = True) # append each document value to the final dataframe\n",
      "C:\\Users\\susan\\AppData\\Local\\Temp\\ipykernel_2340\\1633527202.py:12: FutureWarning: The frame.append method is deprecated and will be removed from pandas in a future version. Use pandas.concat instead.\n",
      "  temp = temp.append(pd.Series(word_vec), ignore_index = True) # if word is present then append it to temporary dataframe\n",
      "C:\\Users\\susan\\AppData\\Local\\Temp\\ipykernel_2340\\1633527202.py:12: FutureWarning: The frame.append method is deprecated and will be removed from pandas in a future version. Use pandas.concat instead.\n",
      "  temp = temp.append(pd.Series(word_vec), ignore_index = True) # if word is present then append it to temporary dataframe\n",
      "C:\\Users\\susan\\AppData\\Local\\Temp\\ipykernel_2340\\1633527202.py:16: FutureWarning: The frame.append method is deprecated and will be removed from pandas in a future version. Use pandas.concat instead.\n",
      "  docs_vectors = docs_vectors.append(doc_vector, ignore_index = True) # append each document value to the final dataframe\n",
      "C:\\Users\\susan\\AppData\\Local\\Temp\\ipykernel_2340\\1633527202.py:12: FutureWarning: The frame.append method is deprecated and will be removed from pandas in a future version. Use pandas.concat instead.\n",
      "  temp = temp.append(pd.Series(word_vec), ignore_index = True) # if word is present then append it to temporary dataframe\n",
      "C:\\Users\\susan\\AppData\\Local\\Temp\\ipykernel_2340\\1633527202.py:12: FutureWarning: The frame.append method is deprecated and will be removed from pandas in a future version. Use pandas.concat instead.\n",
      "  temp = temp.append(pd.Series(word_vec), ignore_index = True) # if word is present then append it to temporary dataframe\n",
      "C:\\Users\\susan\\AppData\\Local\\Temp\\ipykernel_2340\\1633527202.py:16: FutureWarning: The frame.append method is deprecated and will be removed from pandas in a future version. Use pandas.concat instead.\n",
      "  docs_vectors = docs_vectors.append(doc_vector, ignore_index = True) # append each document value to the final dataframe\n",
      "C:\\Users\\susan\\AppData\\Local\\Temp\\ipykernel_2340\\1633527202.py:12: FutureWarning: The frame.append method is deprecated and will be removed from pandas in a future version. Use pandas.concat instead.\n",
      "  temp = temp.append(pd.Series(word_vec), ignore_index = True) # if word is present then append it to temporary dataframe\n",
      "C:\\Users\\susan\\AppData\\Local\\Temp\\ipykernel_2340\\1633527202.py:12: FutureWarning: The frame.append method is deprecated and will be removed from pandas in a future version. Use pandas.concat instead.\n",
      "  temp = temp.append(pd.Series(word_vec), ignore_index = True) # if word is present then append it to temporary dataframe\n"
     ]
    },
    {
     "name": "stderr",
     "output_type": "stream",
     "text": [
      "C:\\Users\\susan\\AppData\\Local\\Temp\\ipykernel_2340\\1633527202.py:16: FutureWarning: The frame.append method is deprecated and will be removed from pandas in a future version. Use pandas.concat instead.\n",
      "  docs_vectors = docs_vectors.append(doc_vector, ignore_index = True) # append each document value to the final dataframe\n",
      "C:\\Users\\susan\\AppData\\Local\\Temp\\ipykernel_2340\\1633527202.py:12: FutureWarning: The frame.append method is deprecated and will be removed from pandas in a future version. Use pandas.concat instead.\n",
      "  temp = temp.append(pd.Series(word_vec), ignore_index = True) # if word is present then append it to temporary dataframe\n",
      "C:\\Users\\susan\\AppData\\Local\\Temp\\ipykernel_2340\\1633527202.py:12: FutureWarning: The frame.append method is deprecated and will be removed from pandas in a future version. Use pandas.concat instead.\n",
      "  temp = temp.append(pd.Series(word_vec), ignore_index = True) # if word is present then append it to temporary dataframe\n",
      "C:\\Users\\susan\\AppData\\Local\\Temp\\ipykernel_2340\\1633527202.py:16: FutureWarning: The frame.append method is deprecated and will be removed from pandas in a future version. Use pandas.concat instead.\n",
      "  docs_vectors = docs_vectors.append(doc_vector, ignore_index = True) # append each document value to the final dataframe\n",
      "C:\\Users\\susan\\AppData\\Local\\Temp\\ipykernel_2340\\1633527202.py:12: FutureWarning: The frame.append method is deprecated and will be removed from pandas in a future version. Use pandas.concat instead.\n",
      "  temp = temp.append(pd.Series(word_vec), ignore_index = True) # if word is present then append it to temporary dataframe\n",
      "C:\\Users\\susan\\AppData\\Local\\Temp\\ipykernel_2340\\1633527202.py:12: FutureWarning: The frame.append method is deprecated and will be removed from pandas in a future version. Use pandas.concat instead.\n",
      "  temp = temp.append(pd.Series(word_vec), ignore_index = True) # if word is present then append it to temporary dataframe\n",
      "C:\\Users\\susan\\AppData\\Local\\Temp\\ipykernel_2340\\1633527202.py:16: FutureWarning: The frame.append method is deprecated and will be removed from pandas in a future version. Use pandas.concat instead.\n",
      "  docs_vectors = docs_vectors.append(doc_vector, ignore_index = True) # append each document value to the final dataframe\n",
      "C:\\Users\\susan\\AppData\\Local\\Temp\\ipykernel_2340\\1633527202.py:12: FutureWarning: The frame.append method is deprecated and will be removed from pandas in a future version. Use pandas.concat instead.\n",
      "  temp = temp.append(pd.Series(word_vec), ignore_index = True) # if word is present then append it to temporary dataframe\n",
      "C:\\Users\\susan\\AppData\\Local\\Temp\\ipykernel_2340\\1633527202.py:12: FutureWarning: The frame.append method is deprecated and will be removed from pandas in a future version. Use pandas.concat instead.\n",
      "  temp = temp.append(pd.Series(word_vec), ignore_index = True) # if word is present then append it to temporary dataframe\n",
      "C:\\Users\\susan\\AppData\\Local\\Temp\\ipykernel_2340\\1633527202.py:16: FutureWarning: The frame.append method is deprecated and will be removed from pandas in a future version. Use pandas.concat instead.\n",
      "  docs_vectors = docs_vectors.append(doc_vector, ignore_index = True) # append each document value to the final dataframe\n",
      "C:\\Users\\susan\\AppData\\Local\\Temp\\ipykernel_2340\\1633527202.py:12: FutureWarning: The frame.append method is deprecated and will be removed from pandas in a future version. Use pandas.concat instead.\n",
      "  temp = temp.append(pd.Series(word_vec), ignore_index = True) # if word is present then append it to temporary dataframe\n",
      "C:\\Users\\susan\\AppData\\Local\\Temp\\ipykernel_2340\\1633527202.py:12: FutureWarning: The frame.append method is deprecated and will be removed from pandas in a future version. Use pandas.concat instead.\n",
      "  temp = temp.append(pd.Series(word_vec), ignore_index = True) # if word is present then append it to temporary dataframe\n",
      "C:\\Users\\susan\\AppData\\Local\\Temp\\ipykernel_2340\\1633527202.py:16: FutureWarning: The frame.append method is deprecated and will be removed from pandas in a future version. Use pandas.concat instead.\n",
      "  docs_vectors = docs_vectors.append(doc_vector, ignore_index = True) # append each document value to the final dataframe\n",
      "C:\\Users\\susan\\AppData\\Local\\Temp\\ipykernel_2340\\1633527202.py:12: FutureWarning: The frame.append method is deprecated and will be removed from pandas in a future version. Use pandas.concat instead.\n",
      "  temp = temp.append(pd.Series(word_vec), ignore_index = True) # if word is present then append it to temporary dataframe\n",
      "C:\\Users\\susan\\AppData\\Local\\Temp\\ipykernel_2340\\1633527202.py:12: FutureWarning: The frame.append method is deprecated and will be removed from pandas in a future version. Use pandas.concat instead.\n",
      "  temp = temp.append(pd.Series(word_vec), ignore_index = True) # if word is present then append it to temporary dataframe\n",
      "C:\\Users\\susan\\AppData\\Local\\Temp\\ipykernel_2340\\1633527202.py:16: FutureWarning: The frame.append method is deprecated and will be removed from pandas in a future version. Use pandas.concat instead.\n",
      "  docs_vectors = docs_vectors.append(doc_vector, ignore_index = True) # append each document value to the final dataframe\n",
      "C:\\Users\\susan\\AppData\\Local\\Temp\\ipykernel_2340\\1633527202.py:12: FutureWarning: The frame.append method is deprecated and will be removed from pandas in a future version. Use pandas.concat instead.\n",
      "  temp = temp.append(pd.Series(word_vec), ignore_index = True) # if word is present then append it to temporary dataframe\n",
      "C:\\Users\\susan\\AppData\\Local\\Temp\\ipykernel_2340\\1633527202.py:12: FutureWarning: The frame.append method is deprecated and will be removed from pandas in a future version. Use pandas.concat instead.\n",
      "  temp = temp.append(pd.Series(word_vec), ignore_index = True) # if word is present then append it to temporary dataframe\n",
      "C:\\Users\\susan\\AppData\\Local\\Temp\\ipykernel_2340\\1633527202.py:16: FutureWarning: The frame.append method is deprecated and will be removed from pandas in a future version. Use pandas.concat instead.\n",
      "  docs_vectors = docs_vectors.append(doc_vector, ignore_index = True) # append each document value to the final dataframe\n",
      "C:\\Users\\susan\\AppData\\Local\\Temp\\ipykernel_2340\\1633527202.py:12: FutureWarning: The frame.append method is deprecated and will be removed from pandas in a future version. Use pandas.concat instead.\n",
      "  temp = temp.append(pd.Series(word_vec), ignore_index = True) # if word is present then append it to temporary dataframe\n",
      "C:\\Users\\susan\\AppData\\Local\\Temp\\ipykernel_2340\\1633527202.py:12: FutureWarning: The frame.append method is deprecated and will be removed from pandas in a future version. Use pandas.concat instead.\n",
      "  temp = temp.append(pd.Series(word_vec), ignore_index = True) # if word is present then append it to temporary dataframe\n",
      "C:\\Users\\susan\\AppData\\Local\\Temp\\ipykernel_2340\\1633527202.py:16: FutureWarning: The frame.append method is deprecated and will be removed from pandas in a future version. Use pandas.concat instead.\n",
      "  docs_vectors = docs_vectors.append(doc_vector, ignore_index = True) # append each document value to the final dataframe\n",
      "C:\\Users\\susan\\AppData\\Local\\Temp\\ipykernel_2340\\1633527202.py:12: FutureWarning: The frame.append method is deprecated and will be removed from pandas in a future version. Use pandas.concat instead.\n",
      "  temp = temp.append(pd.Series(word_vec), ignore_index = True) # if word is present then append it to temporary dataframe\n",
      "C:\\Users\\susan\\AppData\\Local\\Temp\\ipykernel_2340\\1633527202.py:12: FutureWarning: The frame.append method is deprecated and will be removed from pandas in a future version. Use pandas.concat instead.\n",
      "  temp = temp.append(pd.Series(word_vec), ignore_index = True) # if word is present then append it to temporary dataframe\n",
      "C:\\Users\\susan\\AppData\\Local\\Temp\\ipykernel_2340\\1633527202.py:16: FutureWarning: The frame.append method is deprecated and will be removed from pandas in a future version. Use pandas.concat instead.\n",
      "  docs_vectors = docs_vectors.append(doc_vector, ignore_index = True) # append each document value to the final dataframe\n",
      "C:\\Users\\susan\\AppData\\Local\\Temp\\ipykernel_2340\\1633527202.py:12: FutureWarning: The frame.append method is deprecated and will be removed from pandas in a future version. Use pandas.concat instead.\n",
      "  temp = temp.append(pd.Series(word_vec), ignore_index = True) # if word is present then append it to temporary dataframe\n",
      "C:\\Users\\susan\\AppData\\Local\\Temp\\ipykernel_2340\\1633527202.py:12: FutureWarning: The frame.append method is deprecated and will be removed from pandas in a future version. Use pandas.concat instead.\n",
      "  temp = temp.append(pd.Series(word_vec), ignore_index = True) # if word is present then append it to temporary dataframe\n"
     ]
    },
    {
     "name": "stderr",
     "output_type": "stream",
     "text": [
      "C:\\Users\\susan\\AppData\\Local\\Temp\\ipykernel_2340\\1633527202.py:16: FutureWarning: The frame.append method is deprecated and will be removed from pandas in a future version. Use pandas.concat instead.\n",
      "  docs_vectors = docs_vectors.append(doc_vector, ignore_index = True) # append each document value to the final dataframe\n",
      "C:\\Users\\susan\\AppData\\Local\\Temp\\ipykernel_2340\\1633527202.py:12: FutureWarning: The frame.append method is deprecated and will be removed from pandas in a future version. Use pandas.concat instead.\n",
      "  temp = temp.append(pd.Series(word_vec), ignore_index = True) # if word is present then append it to temporary dataframe\n",
      "C:\\Users\\susan\\AppData\\Local\\Temp\\ipykernel_2340\\1633527202.py:12: FutureWarning: The frame.append method is deprecated and will be removed from pandas in a future version. Use pandas.concat instead.\n",
      "  temp = temp.append(pd.Series(word_vec), ignore_index = True) # if word is present then append it to temporary dataframe\n",
      "C:\\Users\\susan\\AppData\\Local\\Temp\\ipykernel_2340\\1633527202.py:16: FutureWarning: The frame.append method is deprecated and will be removed from pandas in a future version. Use pandas.concat instead.\n",
      "  docs_vectors = docs_vectors.append(doc_vector, ignore_index = True) # append each document value to the final dataframe\n",
      "C:\\Users\\susan\\AppData\\Local\\Temp\\ipykernel_2340\\1633527202.py:12: FutureWarning: The frame.append method is deprecated and will be removed from pandas in a future version. Use pandas.concat instead.\n",
      "  temp = temp.append(pd.Series(word_vec), ignore_index = True) # if word is present then append it to temporary dataframe\n",
      "C:\\Users\\susan\\AppData\\Local\\Temp\\ipykernel_2340\\1633527202.py:12: FutureWarning: The frame.append method is deprecated and will be removed from pandas in a future version. Use pandas.concat instead.\n",
      "  temp = temp.append(pd.Series(word_vec), ignore_index = True) # if word is present then append it to temporary dataframe\n",
      "C:\\Users\\susan\\AppData\\Local\\Temp\\ipykernel_2340\\1633527202.py:16: FutureWarning: The frame.append method is deprecated and will be removed from pandas in a future version. Use pandas.concat instead.\n",
      "  docs_vectors = docs_vectors.append(doc_vector, ignore_index = True) # append each document value to the final dataframe\n",
      "C:\\Users\\susan\\AppData\\Local\\Temp\\ipykernel_2340\\1633527202.py:12: FutureWarning: The frame.append method is deprecated and will be removed from pandas in a future version. Use pandas.concat instead.\n",
      "  temp = temp.append(pd.Series(word_vec), ignore_index = True) # if word is present then append it to temporary dataframe\n",
      "C:\\Users\\susan\\AppData\\Local\\Temp\\ipykernel_2340\\1633527202.py:12: FutureWarning: The frame.append method is deprecated and will be removed from pandas in a future version. Use pandas.concat instead.\n",
      "  temp = temp.append(pd.Series(word_vec), ignore_index = True) # if word is present then append it to temporary dataframe\n",
      "C:\\Users\\susan\\AppData\\Local\\Temp\\ipykernel_2340\\1633527202.py:16: FutureWarning: The frame.append method is deprecated and will be removed from pandas in a future version. Use pandas.concat instead.\n",
      "  docs_vectors = docs_vectors.append(doc_vector, ignore_index = True) # append each document value to the final dataframe\n",
      "C:\\Users\\susan\\AppData\\Local\\Temp\\ipykernel_2340\\1633527202.py:12: FutureWarning: The frame.append method is deprecated and will be removed from pandas in a future version. Use pandas.concat instead.\n",
      "  temp = temp.append(pd.Series(word_vec), ignore_index = True) # if word is present then append it to temporary dataframe\n",
      "C:\\Users\\susan\\AppData\\Local\\Temp\\ipykernel_2340\\1633527202.py:12: FutureWarning: The frame.append method is deprecated and will be removed from pandas in a future version. Use pandas.concat instead.\n",
      "  temp = temp.append(pd.Series(word_vec), ignore_index = True) # if word is present then append it to temporary dataframe\n",
      "C:\\Users\\susan\\AppData\\Local\\Temp\\ipykernel_2340\\1633527202.py:16: FutureWarning: The frame.append method is deprecated and will be removed from pandas in a future version. Use pandas.concat instead.\n",
      "  docs_vectors = docs_vectors.append(doc_vector, ignore_index = True) # append each document value to the final dataframe\n",
      "C:\\Users\\susan\\AppData\\Local\\Temp\\ipykernel_2340\\1633527202.py:12: FutureWarning: The frame.append method is deprecated and will be removed from pandas in a future version. Use pandas.concat instead.\n",
      "  temp = temp.append(pd.Series(word_vec), ignore_index = True) # if word is present then append it to temporary dataframe\n",
      "C:\\Users\\susan\\AppData\\Local\\Temp\\ipykernel_2340\\1633527202.py:12: FutureWarning: The frame.append method is deprecated and will be removed from pandas in a future version. Use pandas.concat instead.\n",
      "  temp = temp.append(pd.Series(word_vec), ignore_index = True) # if word is present then append it to temporary dataframe\n",
      "C:\\Users\\susan\\AppData\\Local\\Temp\\ipykernel_2340\\1633527202.py:16: FutureWarning: The frame.append method is deprecated and will be removed from pandas in a future version. Use pandas.concat instead.\n",
      "  docs_vectors = docs_vectors.append(doc_vector, ignore_index = True) # append each document value to the final dataframe\n",
      "C:\\Users\\susan\\AppData\\Local\\Temp\\ipykernel_2340\\1633527202.py:12: FutureWarning: The frame.append method is deprecated and will be removed from pandas in a future version. Use pandas.concat instead.\n",
      "  temp = temp.append(pd.Series(word_vec), ignore_index = True) # if word is present then append it to temporary dataframe\n",
      "C:\\Users\\susan\\AppData\\Local\\Temp\\ipykernel_2340\\1633527202.py:12: FutureWarning: The frame.append method is deprecated and will be removed from pandas in a future version. Use pandas.concat instead.\n",
      "  temp = temp.append(pd.Series(word_vec), ignore_index = True) # if word is present then append it to temporary dataframe\n",
      "C:\\Users\\susan\\AppData\\Local\\Temp\\ipykernel_2340\\1633527202.py:16: FutureWarning: The frame.append method is deprecated and will be removed from pandas in a future version. Use pandas.concat instead.\n",
      "  docs_vectors = docs_vectors.append(doc_vector, ignore_index = True) # append each document value to the final dataframe\n",
      "C:\\Users\\susan\\AppData\\Local\\Temp\\ipykernel_2340\\1633527202.py:12: FutureWarning: The frame.append method is deprecated and will be removed from pandas in a future version. Use pandas.concat instead.\n",
      "  temp = temp.append(pd.Series(word_vec), ignore_index = True) # if word is present then append it to temporary dataframe\n",
      "C:\\Users\\susan\\AppData\\Local\\Temp\\ipykernel_2340\\1633527202.py:12: FutureWarning: The frame.append method is deprecated and will be removed from pandas in a future version. Use pandas.concat instead.\n",
      "  temp = temp.append(pd.Series(word_vec), ignore_index = True) # if word is present then append it to temporary dataframe\n",
      "C:\\Users\\susan\\AppData\\Local\\Temp\\ipykernel_2340\\1633527202.py:16: FutureWarning: The frame.append method is deprecated and will be removed from pandas in a future version. Use pandas.concat instead.\n",
      "  docs_vectors = docs_vectors.append(doc_vector, ignore_index = True) # append each document value to the final dataframe\n",
      "C:\\Users\\susan\\AppData\\Local\\Temp\\ipykernel_2340\\1633527202.py:12: FutureWarning: The frame.append method is deprecated and will be removed from pandas in a future version. Use pandas.concat instead.\n",
      "  temp = temp.append(pd.Series(word_vec), ignore_index = True) # if word is present then append it to temporary dataframe\n",
      "C:\\Users\\susan\\AppData\\Local\\Temp\\ipykernel_2340\\1633527202.py:12: FutureWarning: The frame.append method is deprecated and will be removed from pandas in a future version. Use pandas.concat instead.\n",
      "  temp = temp.append(pd.Series(word_vec), ignore_index = True) # if word is present then append it to temporary dataframe\n",
      "C:\\Users\\susan\\AppData\\Local\\Temp\\ipykernel_2340\\1633527202.py:16: FutureWarning: The frame.append method is deprecated and will be removed from pandas in a future version. Use pandas.concat instead.\n",
      "  docs_vectors = docs_vectors.append(doc_vector, ignore_index = True) # append each document value to the final dataframe\n",
      "C:\\Users\\susan\\AppData\\Local\\Temp\\ipykernel_2340\\1633527202.py:12: FutureWarning: The frame.append method is deprecated and will be removed from pandas in a future version. Use pandas.concat instead.\n",
      "  temp = temp.append(pd.Series(word_vec), ignore_index = True) # if word is present then append it to temporary dataframe\n",
      "C:\\Users\\susan\\AppData\\Local\\Temp\\ipykernel_2340\\1633527202.py:12: FutureWarning: The frame.append method is deprecated and will be removed from pandas in a future version. Use pandas.concat instead.\n",
      "  temp = temp.append(pd.Series(word_vec), ignore_index = True) # if word is present then append it to temporary dataframe\n"
     ]
    },
    {
     "name": "stderr",
     "output_type": "stream",
     "text": [
      "C:\\Users\\susan\\AppData\\Local\\Temp\\ipykernel_2340\\1633527202.py:16: FutureWarning: The frame.append method is deprecated and will be removed from pandas in a future version. Use pandas.concat instead.\n",
      "  docs_vectors = docs_vectors.append(doc_vector, ignore_index = True) # append each document value to the final dataframe\n",
      "C:\\Users\\susan\\AppData\\Local\\Temp\\ipykernel_2340\\1633527202.py:12: FutureWarning: The frame.append method is deprecated and will be removed from pandas in a future version. Use pandas.concat instead.\n",
      "  temp = temp.append(pd.Series(word_vec), ignore_index = True) # if word is present then append it to temporary dataframe\n",
      "C:\\Users\\susan\\AppData\\Local\\Temp\\ipykernel_2340\\1633527202.py:12: FutureWarning: The frame.append method is deprecated and will be removed from pandas in a future version. Use pandas.concat instead.\n",
      "  temp = temp.append(pd.Series(word_vec), ignore_index = True) # if word is present then append it to temporary dataframe\n",
      "C:\\Users\\susan\\AppData\\Local\\Temp\\ipykernel_2340\\1633527202.py:16: FutureWarning: The frame.append method is deprecated and will be removed from pandas in a future version. Use pandas.concat instead.\n",
      "  docs_vectors = docs_vectors.append(doc_vector, ignore_index = True) # append each document value to the final dataframe\n",
      "C:\\Users\\susan\\AppData\\Local\\Temp\\ipykernel_2340\\1633527202.py:12: FutureWarning: The frame.append method is deprecated and will be removed from pandas in a future version. Use pandas.concat instead.\n",
      "  temp = temp.append(pd.Series(word_vec), ignore_index = True) # if word is present then append it to temporary dataframe\n",
      "C:\\Users\\susan\\AppData\\Local\\Temp\\ipykernel_2340\\1633527202.py:12: FutureWarning: The frame.append method is deprecated and will be removed from pandas in a future version. Use pandas.concat instead.\n",
      "  temp = temp.append(pd.Series(word_vec), ignore_index = True) # if word is present then append it to temporary dataframe\n",
      "C:\\Users\\susan\\AppData\\Local\\Temp\\ipykernel_2340\\1633527202.py:16: FutureWarning: The frame.append method is deprecated and will be removed from pandas in a future version. Use pandas.concat instead.\n",
      "  docs_vectors = docs_vectors.append(doc_vector, ignore_index = True) # append each document value to the final dataframe\n",
      "C:\\Users\\susan\\AppData\\Local\\Temp\\ipykernel_2340\\1633527202.py:12: FutureWarning: The frame.append method is deprecated and will be removed from pandas in a future version. Use pandas.concat instead.\n",
      "  temp = temp.append(pd.Series(word_vec), ignore_index = True) # if word is present then append it to temporary dataframe\n",
      "C:\\Users\\susan\\AppData\\Local\\Temp\\ipykernel_2340\\1633527202.py:12: FutureWarning: The frame.append method is deprecated and will be removed from pandas in a future version. Use pandas.concat instead.\n",
      "  temp = temp.append(pd.Series(word_vec), ignore_index = True) # if word is present then append it to temporary dataframe\n",
      "C:\\Users\\susan\\AppData\\Local\\Temp\\ipykernel_2340\\1633527202.py:16: FutureWarning: The frame.append method is deprecated and will be removed from pandas in a future version. Use pandas.concat instead.\n",
      "  docs_vectors = docs_vectors.append(doc_vector, ignore_index = True) # append each document value to the final dataframe\n",
      "C:\\Users\\susan\\AppData\\Local\\Temp\\ipykernel_2340\\1633527202.py:12: FutureWarning: The frame.append method is deprecated and will be removed from pandas in a future version. Use pandas.concat instead.\n",
      "  temp = temp.append(pd.Series(word_vec), ignore_index = True) # if word is present then append it to temporary dataframe\n",
      "C:\\Users\\susan\\AppData\\Local\\Temp\\ipykernel_2340\\1633527202.py:12: FutureWarning: The frame.append method is deprecated and will be removed from pandas in a future version. Use pandas.concat instead.\n",
      "  temp = temp.append(pd.Series(word_vec), ignore_index = True) # if word is present then append it to temporary dataframe\n",
      "C:\\Users\\susan\\AppData\\Local\\Temp\\ipykernel_2340\\1633527202.py:16: FutureWarning: The frame.append method is deprecated and will be removed from pandas in a future version. Use pandas.concat instead.\n",
      "  docs_vectors = docs_vectors.append(doc_vector, ignore_index = True) # append each document value to the final dataframe\n",
      "C:\\Users\\susan\\AppData\\Local\\Temp\\ipykernel_2340\\1633527202.py:12: FutureWarning: The frame.append method is deprecated and will be removed from pandas in a future version. Use pandas.concat instead.\n",
      "  temp = temp.append(pd.Series(word_vec), ignore_index = True) # if word is present then append it to temporary dataframe\n",
      "C:\\Users\\susan\\AppData\\Local\\Temp\\ipykernel_2340\\1633527202.py:12: FutureWarning: The frame.append method is deprecated and will be removed from pandas in a future version. Use pandas.concat instead.\n",
      "  temp = temp.append(pd.Series(word_vec), ignore_index = True) # if word is present then append it to temporary dataframe\n",
      "C:\\Users\\susan\\AppData\\Local\\Temp\\ipykernel_2340\\1633527202.py:16: FutureWarning: The frame.append method is deprecated and will be removed from pandas in a future version. Use pandas.concat instead.\n",
      "  docs_vectors = docs_vectors.append(doc_vector, ignore_index = True) # append each document value to the final dataframe\n",
      "C:\\Users\\susan\\AppData\\Local\\Temp\\ipykernel_2340\\1633527202.py:12: FutureWarning: The frame.append method is deprecated and will be removed from pandas in a future version. Use pandas.concat instead.\n",
      "  temp = temp.append(pd.Series(word_vec), ignore_index = True) # if word is present then append it to temporary dataframe\n",
      "C:\\Users\\susan\\AppData\\Local\\Temp\\ipykernel_2340\\1633527202.py:12: FutureWarning: The frame.append method is deprecated and will be removed from pandas in a future version. Use pandas.concat instead.\n",
      "  temp = temp.append(pd.Series(word_vec), ignore_index = True) # if word is present then append it to temporary dataframe\n",
      "C:\\Users\\susan\\AppData\\Local\\Temp\\ipykernel_2340\\1633527202.py:16: FutureWarning: The frame.append method is deprecated and will be removed from pandas in a future version. Use pandas.concat instead.\n",
      "  docs_vectors = docs_vectors.append(doc_vector, ignore_index = True) # append each document value to the final dataframe\n",
      "C:\\Users\\susan\\AppData\\Local\\Temp\\ipykernel_2340\\1633527202.py:12: FutureWarning: The frame.append method is deprecated and will be removed from pandas in a future version. Use pandas.concat instead.\n",
      "  temp = temp.append(pd.Series(word_vec), ignore_index = True) # if word is present then append it to temporary dataframe\n",
      "C:\\Users\\susan\\AppData\\Local\\Temp\\ipykernel_2340\\1633527202.py:12: FutureWarning: The frame.append method is deprecated and will be removed from pandas in a future version. Use pandas.concat instead.\n",
      "  temp = temp.append(pd.Series(word_vec), ignore_index = True) # if word is present then append it to temporary dataframe\n",
      "C:\\Users\\susan\\AppData\\Local\\Temp\\ipykernel_2340\\1633527202.py:16: FutureWarning: The frame.append method is deprecated and will be removed from pandas in a future version. Use pandas.concat instead.\n",
      "  docs_vectors = docs_vectors.append(doc_vector, ignore_index = True) # append each document value to the final dataframe\n",
      "C:\\Users\\susan\\AppData\\Local\\Temp\\ipykernel_2340\\1633527202.py:12: FutureWarning: The frame.append method is deprecated and will be removed from pandas in a future version. Use pandas.concat instead.\n",
      "  temp = temp.append(pd.Series(word_vec), ignore_index = True) # if word is present then append it to temporary dataframe\n",
      "C:\\Users\\susan\\AppData\\Local\\Temp\\ipykernel_2340\\1633527202.py:12: FutureWarning: The frame.append method is deprecated and will be removed from pandas in a future version. Use pandas.concat instead.\n",
      "  temp = temp.append(pd.Series(word_vec), ignore_index = True) # if word is present then append it to temporary dataframe\n",
      "C:\\Users\\susan\\AppData\\Local\\Temp\\ipykernel_2340\\1633527202.py:16: FutureWarning: The frame.append method is deprecated and will be removed from pandas in a future version. Use pandas.concat instead.\n",
      "  docs_vectors = docs_vectors.append(doc_vector, ignore_index = True) # append each document value to the final dataframe\n",
      "C:\\Users\\susan\\AppData\\Local\\Temp\\ipykernel_2340\\1633527202.py:12: FutureWarning: The frame.append method is deprecated and will be removed from pandas in a future version. Use pandas.concat instead.\n",
      "  temp = temp.append(pd.Series(word_vec), ignore_index = True) # if word is present then append it to temporary dataframe\n",
      "C:\\Users\\susan\\AppData\\Local\\Temp\\ipykernel_2340\\1633527202.py:12: FutureWarning: The frame.append method is deprecated and will be removed from pandas in a future version. Use pandas.concat instead.\n",
      "  temp = temp.append(pd.Series(word_vec), ignore_index = True) # if word is present then append it to temporary dataframe\n"
     ]
    },
    {
     "name": "stderr",
     "output_type": "stream",
     "text": [
      "C:\\Users\\susan\\AppData\\Local\\Temp\\ipykernel_2340\\1633527202.py:16: FutureWarning: The frame.append method is deprecated and will be removed from pandas in a future version. Use pandas.concat instead.\n",
      "  docs_vectors = docs_vectors.append(doc_vector, ignore_index = True) # append each document value to the final dataframe\n",
      "C:\\Users\\susan\\AppData\\Local\\Temp\\ipykernel_2340\\1633527202.py:12: FutureWarning: The frame.append method is deprecated and will be removed from pandas in a future version. Use pandas.concat instead.\n",
      "  temp = temp.append(pd.Series(word_vec), ignore_index = True) # if word is present then append it to temporary dataframe\n",
      "C:\\Users\\susan\\AppData\\Local\\Temp\\ipykernel_2340\\1633527202.py:12: FutureWarning: The frame.append method is deprecated and will be removed from pandas in a future version. Use pandas.concat instead.\n",
      "  temp = temp.append(pd.Series(word_vec), ignore_index = True) # if word is present then append it to temporary dataframe\n",
      "C:\\Users\\susan\\AppData\\Local\\Temp\\ipykernel_2340\\1633527202.py:16: FutureWarning: The frame.append method is deprecated and will be removed from pandas in a future version. Use pandas.concat instead.\n",
      "  docs_vectors = docs_vectors.append(doc_vector, ignore_index = True) # append each document value to the final dataframe\n",
      "C:\\Users\\susan\\AppData\\Local\\Temp\\ipykernel_2340\\1633527202.py:12: FutureWarning: The frame.append method is deprecated and will be removed from pandas in a future version. Use pandas.concat instead.\n",
      "  temp = temp.append(pd.Series(word_vec), ignore_index = True) # if word is present then append it to temporary dataframe\n",
      "C:\\Users\\susan\\AppData\\Local\\Temp\\ipykernel_2340\\1633527202.py:12: FutureWarning: The frame.append method is deprecated and will be removed from pandas in a future version. Use pandas.concat instead.\n",
      "  temp = temp.append(pd.Series(word_vec), ignore_index = True) # if word is present then append it to temporary dataframe\n",
      "C:\\Users\\susan\\AppData\\Local\\Temp\\ipykernel_2340\\1633527202.py:16: FutureWarning: The frame.append method is deprecated and will be removed from pandas in a future version. Use pandas.concat instead.\n",
      "  docs_vectors = docs_vectors.append(doc_vector, ignore_index = True) # append each document value to the final dataframe\n",
      "C:\\Users\\susan\\AppData\\Local\\Temp\\ipykernel_2340\\1633527202.py:12: FutureWarning: The frame.append method is deprecated and will be removed from pandas in a future version. Use pandas.concat instead.\n",
      "  temp = temp.append(pd.Series(word_vec), ignore_index = True) # if word is present then append it to temporary dataframe\n",
      "C:\\Users\\susan\\AppData\\Local\\Temp\\ipykernel_2340\\1633527202.py:12: FutureWarning: The frame.append method is deprecated and will be removed from pandas in a future version. Use pandas.concat instead.\n",
      "  temp = temp.append(pd.Series(word_vec), ignore_index = True) # if word is present then append it to temporary dataframe\n",
      "C:\\Users\\susan\\AppData\\Local\\Temp\\ipykernel_2340\\1633527202.py:16: FutureWarning: The frame.append method is deprecated and will be removed from pandas in a future version. Use pandas.concat instead.\n",
      "  docs_vectors = docs_vectors.append(doc_vector, ignore_index = True) # append each document value to the final dataframe\n",
      "C:\\Users\\susan\\AppData\\Local\\Temp\\ipykernel_2340\\1633527202.py:12: FutureWarning: The frame.append method is deprecated and will be removed from pandas in a future version. Use pandas.concat instead.\n",
      "  temp = temp.append(pd.Series(word_vec), ignore_index = True) # if word is present then append it to temporary dataframe\n",
      "C:\\Users\\susan\\AppData\\Local\\Temp\\ipykernel_2340\\1633527202.py:12: FutureWarning: The frame.append method is deprecated and will be removed from pandas in a future version. Use pandas.concat instead.\n",
      "  temp = temp.append(pd.Series(word_vec), ignore_index = True) # if word is present then append it to temporary dataframe\n",
      "C:\\Users\\susan\\AppData\\Local\\Temp\\ipykernel_2340\\1633527202.py:16: FutureWarning: The frame.append method is deprecated and will be removed from pandas in a future version. Use pandas.concat instead.\n",
      "  docs_vectors = docs_vectors.append(doc_vector, ignore_index = True) # append each document value to the final dataframe\n",
      "C:\\Users\\susan\\AppData\\Local\\Temp\\ipykernel_2340\\1633527202.py:12: FutureWarning: The frame.append method is deprecated and will be removed from pandas in a future version. Use pandas.concat instead.\n",
      "  temp = temp.append(pd.Series(word_vec), ignore_index = True) # if word is present then append it to temporary dataframe\n",
      "C:\\Users\\susan\\AppData\\Local\\Temp\\ipykernel_2340\\1633527202.py:12: FutureWarning: The frame.append method is deprecated and will be removed from pandas in a future version. Use pandas.concat instead.\n",
      "  temp = temp.append(pd.Series(word_vec), ignore_index = True) # if word is present then append it to temporary dataframe\n",
      "C:\\Users\\susan\\AppData\\Local\\Temp\\ipykernel_2340\\1633527202.py:16: FutureWarning: The frame.append method is deprecated and will be removed from pandas in a future version. Use pandas.concat instead.\n",
      "  docs_vectors = docs_vectors.append(doc_vector, ignore_index = True) # append each document value to the final dataframe\n",
      "C:\\Users\\susan\\AppData\\Local\\Temp\\ipykernel_2340\\1633527202.py:12: FutureWarning: The frame.append method is deprecated and will be removed from pandas in a future version. Use pandas.concat instead.\n",
      "  temp = temp.append(pd.Series(word_vec), ignore_index = True) # if word is present then append it to temporary dataframe\n",
      "C:\\Users\\susan\\AppData\\Local\\Temp\\ipykernel_2340\\1633527202.py:12: FutureWarning: The frame.append method is deprecated and will be removed from pandas in a future version. Use pandas.concat instead.\n",
      "  temp = temp.append(pd.Series(word_vec), ignore_index = True) # if word is present then append it to temporary dataframe\n",
      "C:\\Users\\susan\\AppData\\Local\\Temp\\ipykernel_2340\\1633527202.py:16: FutureWarning: The frame.append method is deprecated and will be removed from pandas in a future version. Use pandas.concat instead.\n",
      "  docs_vectors = docs_vectors.append(doc_vector, ignore_index = True) # append each document value to the final dataframe\n",
      "C:\\Users\\susan\\AppData\\Local\\Temp\\ipykernel_2340\\1633527202.py:12: FutureWarning: The frame.append method is deprecated and will be removed from pandas in a future version. Use pandas.concat instead.\n",
      "  temp = temp.append(pd.Series(word_vec), ignore_index = True) # if word is present then append it to temporary dataframe\n",
      "C:\\Users\\susan\\AppData\\Local\\Temp\\ipykernel_2340\\1633527202.py:12: FutureWarning: The frame.append method is deprecated and will be removed from pandas in a future version. Use pandas.concat instead.\n",
      "  temp = temp.append(pd.Series(word_vec), ignore_index = True) # if word is present then append it to temporary dataframe\n",
      "C:\\Users\\susan\\AppData\\Local\\Temp\\ipykernel_2340\\1633527202.py:16: FutureWarning: The frame.append method is deprecated and will be removed from pandas in a future version. Use pandas.concat instead.\n",
      "  docs_vectors = docs_vectors.append(doc_vector, ignore_index = True) # append each document value to the final dataframe\n",
      "C:\\Users\\susan\\AppData\\Local\\Temp\\ipykernel_2340\\1633527202.py:12: FutureWarning: The frame.append method is deprecated and will be removed from pandas in a future version. Use pandas.concat instead.\n",
      "  temp = temp.append(pd.Series(word_vec), ignore_index = True) # if word is present then append it to temporary dataframe\n",
      "C:\\Users\\susan\\AppData\\Local\\Temp\\ipykernel_2340\\1633527202.py:12: FutureWarning: The frame.append method is deprecated and will be removed from pandas in a future version. Use pandas.concat instead.\n",
      "  temp = temp.append(pd.Series(word_vec), ignore_index = True) # if word is present then append it to temporary dataframe\n",
      "C:\\Users\\susan\\AppData\\Local\\Temp\\ipykernel_2340\\1633527202.py:16: FutureWarning: The frame.append method is deprecated and will be removed from pandas in a future version. Use pandas.concat instead.\n",
      "  docs_vectors = docs_vectors.append(doc_vector, ignore_index = True) # append each document value to the final dataframe\n",
      "C:\\Users\\susan\\AppData\\Local\\Temp\\ipykernel_2340\\1633527202.py:12: FutureWarning: The frame.append method is deprecated and will be removed from pandas in a future version. Use pandas.concat instead.\n",
      "  temp = temp.append(pd.Series(word_vec), ignore_index = True) # if word is present then append it to temporary dataframe\n",
      "C:\\Users\\susan\\AppData\\Local\\Temp\\ipykernel_2340\\1633527202.py:12: FutureWarning: The frame.append method is deprecated and will be removed from pandas in a future version. Use pandas.concat instead.\n",
      "  temp = temp.append(pd.Series(word_vec), ignore_index = True) # if word is present then append it to temporary dataframe\n"
     ]
    },
    {
     "name": "stderr",
     "output_type": "stream",
     "text": [
      "C:\\Users\\susan\\AppData\\Local\\Temp\\ipykernel_2340\\1633527202.py:16: FutureWarning: The frame.append method is deprecated and will be removed from pandas in a future version. Use pandas.concat instead.\n",
      "  docs_vectors = docs_vectors.append(doc_vector, ignore_index = True) # append each document value to the final dataframe\n",
      "C:\\Users\\susan\\AppData\\Local\\Temp\\ipykernel_2340\\1633527202.py:12: FutureWarning: The frame.append method is deprecated and will be removed from pandas in a future version. Use pandas.concat instead.\n",
      "  temp = temp.append(pd.Series(word_vec), ignore_index = True) # if word is present then append it to temporary dataframe\n",
      "C:\\Users\\susan\\AppData\\Local\\Temp\\ipykernel_2340\\1633527202.py:12: FutureWarning: The frame.append method is deprecated and will be removed from pandas in a future version. Use pandas.concat instead.\n",
      "  temp = temp.append(pd.Series(word_vec), ignore_index = True) # if word is present then append it to temporary dataframe\n",
      "C:\\Users\\susan\\AppData\\Local\\Temp\\ipykernel_2340\\1633527202.py:16: FutureWarning: The frame.append method is deprecated and will be removed from pandas in a future version. Use pandas.concat instead.\n",
      "  docs_vectors = docs_vectors.append(doc_vector, ignore_index = True) # append each document value to the final dataframe\n",
      "C:\\Users\\susan\\AppData\\Local\\Temp\\ipykernel_2340\\1633527202.py:12: FutureWarning: The frame.append method is deprecated and will be removed from pandas in a future version. Use pandas.concat instead.\n",
      "  temp = temp.append(pd.Series(word_vec), ignore_index = True) # if word is present then append it to temporary dataframe\n",
      "C:\\Users\\susan\\AppData\\Local\\Temp\\ipykernel_2340\\1633527202.py:12: FutureWarning: The frame.append method is deprecated and will be removed from pandas in a future version. Use pandas.concat instead.\n",
      "  temp = temp.append(pd.Series(word_vec), ignore_index = True) # if word is present then append it to temporary dataframe\n",
      "C:\\Users\\susan\\AppData\\Local\\Temp\\ipykernel_2340\\1633527202.py:16: FutureWarning: The frame.append method is deprecated and will be removed from pandas in a future version. Use pandas.concat instead.\n",
      "  docs_vectors = docs_vectors.append(doc_vector, ignore_index = True) # append each document value to the final dataframe\n",
      "C:\\Users\\susan\\AppData\\Local\\Temp\\ipykernel_2340\\1633527202.py:12: FutureWarning: The frame.append method is deprecated and will be removed from pandas in a future version. Use pandas.concat instead.\n",
      "  temp = temp.append(pd.Series(word_vec), ignore_index = True) # if word is present then append it to temporary dataframe\n",
      "C:\\Users\\susan\\AppData\\Local\\Temp\\ipykernel_2340\\1633527202.py:12: FutureWarning: The frame.append method is deprecated and will be removed from pandas in a future version. Use pandas.concat instead.\n",
      "  temp = temp.append(pd.Series(word_vec), ignore_index = True) # if word is present then append it to temporary dataframe\n",
      "C:\\Users\\susan\\AppData\\Local\\Temp\\ipykernel_2340\\1633527202.py:16: FutureWarning: The frame.append method is deprecated and will be removed from pandas in a future version. Use pandas.concat instead.\n",
      "  docs_vectors = docs_vectors.append(doc_vector, ignore_index = True) # append each document value to the final dataframe\n",
      "C:\\Users\\susan\\AppData\\Local\\Temp\\ipykernel_2340\\1633527202.py:12: FutureWarning: The frame.append method is deprecated and will be removed from pandas in a future version. Use pandas.concat instead.\n",
      "  temp = temp.append(pd.Series(word_vec), ignore_index = True) # if word is present then append it to temporary dataframe\n",
      "C:\\Users\\susan\\AppData\\Local\\Temp\\ipykernel_2340\\1633527202.py:12: FutureWarning: The frame.append method is deprecated and will be removed from pandas in a future version. Use pandas.concat instead.\n",
      "  temp = temp.append(pd.Series(word_vec), ignore_index = True) # if word is present then append it to temporary dataframe\n",
      "C:\\Users\\susan\\AppData\\Local\\Temp\\ipykernel_2340\\1633527202.py:16: FutureWarning: The frame.append method is deprecated and will be removed from pandas in a future version. Use pandas.concat instead.\n",
      "  docs_vectors = docs_vectors.append(doc_vector, ignore_index = True) # append each document value to the final dataframe\n",
      "C:\\Users\\susan\\AppData\\Local\\Temp\\ipykernel_2340\\1633527202.py:12: FutureWarning: The frame.append method is deprecated and will be removed from pandas in a future version. Use pandas.concat instead.\n",
      "  temp = temp.append(pd.Series(word_vec), ignore_index = True) # if word is present then append it to temporary dataframe\n",
      "C:\\Users\\susan\\AppData\\Local\\Temp\\ipykernel_2340\\1633527202.py:12: FutureWarning: The frame.append method is deprecated and will be removed from pandas in a future version. Use pandas.concat instead.\n",
      "  temp = temp.append(pd.Series(word_vec), ignore_index = True) # if word is present then append it to temporary dataframe\n",
      "C:\\Users\\susan\\AppData\\Local\\Temp\\ipykernel_2340\\1633527202.py:16: FutureWarning: The frame.append method is deprecated and will be removed from pandas in a future version. Use pandas.concat instead.\n",
      "  docs_vectors = docs_vectors.append(doc_vector, ignore_index = True) # append each document value to the final dataframe\n",
      "C:\\Users\\susan\\AppData\\Local\\Temp\\ipykernel_2340\\1633527202.py:12: FutureWarning: The frame.append method is deprecated and will be removed from pandas in a future version. Use pandas.concat instead.\n",
      "  temp = temp.append(pd.Series(word_vec), ignore_index = True) # if word is present then append it to temporary dataframe\n",
      "C:\\Users\\susan\\AppData\\Local\\Temp\\ipykernel_2340\\1633527202.py:12: FutureWarning: The frame.append method is deprecated and will be removed from pandas in a future version. Use pandas.concat instead.\n",
      "  temp = temp.append(pd.Series(word_vec), ignore_index = True) # if word is present then append it to temporary dataframe\n",
      "C:\\Users\\susan\\AppData\\Local\\Temp\\ipykernel_2340\\1633527202.py:16: FutureWarning: The frame.append method is deprecated and will be removed from pandas in a future version. Use pandas.concat instead.\n",
      "  docs_vectors = docs_vectors.append(doc_vector, ignore_index = True) # append each document value to the final dataframe\n",
      "C:\\Users\\susan\\AppData\\Local\\Temp\\ipykernel_2340\\1633527202.py:12: FutureWarning: The frame.append method is deprecated and will be removed from pandas in a future version. Use pandas.concat instead.\n",
      "  temp = temp.append(pd.Series(word_vec), ignore_index = True) # if word is present then append it to temporary dataframe\n",
      "C:\\Users\\susan\\AppData\\Local\\Temp\\ipykernel_2340\\1633527202.py:12: FutureWarning: The frame.append method is deprecated and will be removed from pandas in a future version. Use pandas.concat instead.\n",
      "  temp = temp.append(pd.Series(word_vec), ignore_index = True) # if word is present then append it to temporary dataframe\n",
      "C:\\Users\\susan\\AppData\\Local\\Temp\\ipykernel_2340\\1633527202.py:16: FutureWarning: The frame.append method is deprecated and will be removed from pandas in a future version. Use pandas.concat instead.\n",
      "  docs_vectors = docs_vectors.append(doc_vector, ignore_index = True) # append each document value to the final dataframe\n",
      "C:\\Users\\susan\\AppData\\Local\\Temp\\ipykernel_2340\\1633527202.py:12: FutureWarning: The frame.append method is deprecated and will be removed from pandas in a future version. Use pandas.concat instead.\n",
      "  temp = temp.append(pd.Series(word_vec), ignore_index = True) # if word is present then append it to temporary dataframe\n",
      "C:\\Users\\susan\\AppData\\Local\\Temp\\ipykernel_2340\\1633527202.py:12: FutureWarning: The frame.append method is deprecated and will be removed from pandas in a future version. Use pandas.concat instead.\n",
      "  temp = temp.append(pd.Series(word_vec), ignore_index = True) # if word is present then append it to temporary dataframe\n",
      "C:\\Users\\susan\\AppData\\Local\\Temp\\ipykernel_2340\\1633527202.py:16: FutureWarning: The frame.append method is deprecated and will be removed from pandas in a future version. Use pandas.concat instead.\n",
      "  docs_vectors = docs_vectors.append(doc_vector, ignore_index = True) # append each document value to the final dataframe\n",
      "C:\\Users\\susan\\AppData\\Local\\Temp\\ipykernel_2340\\1633527202.py:12: FutureWarning: The frame.append method is deprecated and will be removed from pandas in a future version. Use pandas.concat instead.\n",
      "  temp = temp.append(pd.Series(word_vec), ignore_index = True) # if word is present then append it to temporary dataframe\n",
      "C:\\Users\\susan\\AppData\\Local\\Temp\\ipykernel_2340\\1633527202.py:12: FutureWarning: The frame.append method is deprecated and will be removed from pandas in a future version. Use pandas.concat instead.\n",
      "  temp = temp.append(pd.Series(word_vec), ignore_index = True) # if word is present then append it to temporary dataframe\n"
     ]
    },
    {
     "name": "stderr",
     "output_type": "stream",
     "text": [
      "C:\\Users\\susan\\AppData\\Local\\Temp\\ipykernel_2340\\1633527202.py:16: FutureWarning: The frame.append method is deprecated and will be removed from pandas in a future version. Use pandas.concat instead.\n",
      "  docs_vectors = docs_vectors.append(doc_vector, ignore_index = True) # append each document value to the final dataframe\n",
      "C:\\Users\\susan\\AppData\\Local\\Temp\\ipykernel_2340\\1633527202.py:12: FutureWarning: The frame.append method is deprecated and will be removed from pandas in a future version. Use pandas.concat instead.\n",
      "  temp = temp.append(pd.Series(word_vec), ignore_index = True) # if word is present then append it to temporary dataframe\n",
      "C:\\Users\\susan\\AppData\\Local\\Temp\\ipykernel_2340\\1633527202.py:12: FutureWarning: The frame.append method is deprecated and will be removed from pandas in a future version. Use pandas.concat instead.\n",
      "  temp = temp.append(pd.Series(word_vec), ignore_index = True) # if word is present then append it to temporary dataframe\n",
      "C:\\Users\\susan\\AppData\\Local\\Temp\\ipykernel_2340\\1633527202.py:16: FutureWarning: The frame.append method is deprecated and will be removed from pandas in a future version. Use pandas.concat instead.\n",
      "  docs_vectors = docs_vectors.append(doc_vector, ignore_index = True) # append each document value to the final dataframe\n",
      "C:\\Users\\susan\\AppData\\Local\\Temp\\ipykernel_2340\\1633527202.py:12: FutureWarning: The frame.append method is deprecated and will be removed from pandas in a future version. Use pandas.concat instead.\n",
      "  temp = temp.append(pd.Series(word_vec), ignore_index = True) # if word is present then append it to temporary dataframe\n",
      "C:\\Users\\susan\\AppData\\Local\\Temp\\ipykernel_2340\\1633527202.py:12: FutureWarning: The frame.append method is deprecated and will be removed from pandas in a future version. Use pandas.concat instead.\n",
      "  temp = temp.append(pd.Series(word_vec), ignore_index = True) # if word is present then append it to temporary dataframe\n",
      "C:\\Users\\susan\\AppData\\Local\\Temp\\ipykernel_2340\\1633527202.py:16: FutureWarning: The frame.append method is deprecated and will be removed from pandas in a future version. Use pandas.concat instead.\n",
      "  docs_vectors = docs_vectors.append(doc_vector, ignore_index = True) # append each document value to the final dataframe\n",
      "C:\\Users\\susan\\AppData\\Local\\Temp\\ipykernel_2340\\1633527202.py:12: FutureWarning: The frame.append method is deprecated and will be removed from pandas in a future version. Use pandas.concat instead.\n",
      "  temp = temp.append(pd.Series(word_vec), ignore_index = True) # if word is present then append it to temporary dataframe\n",
      "C:\\Users\\susan\\AppData\\Local\\Temp\\ipykernel_2340\\1633527202.py:12: FutureWarning: The frame.append method is deprecated and will be removed from pandas in a future version. Use pandas.concat instead.\n",
      "  temp = temp.append(pd.Series(word_vec), ignore_index = True) # if word is present then append it to temporary dataframe\n",
      "C:\\Users\\susan\\AppData\\Local\\Temp\\ipykernel_2340\\1633527202.py:16: FutureWarning: The frame.append method is deprecated and will be removed from pandas in a future version. Use pandas.concat instead.\n",
      "  docs_vectors = docs_vectors.append(doc_vector, ignore_index = True) # append each document value to the final dataframe\n",
      "C:\\Users\\susan\\AppData\\Local\\Temp\\ipykernel_2340\\1633527202.py:12: FutureWarning: The frame.append method is deprecated and will be removed from pandas in a future version. Use pandas.concat instead.\n",
      "  temp = temp.append(pd.Series(word_vec), ignore_index = True) # if word is present then append it to temporary dataframe\n",
      "C:\\Users\\susan\\AppData\\Local\\Temp\\ipykernel_2340\\1633527202.py:12: FutureWarning: The frame.append method is deprecated and will be removed from pandas in a future version. Use pandas.concat instead.\n",
      "  temp = temp.append(pd.Series(word_vec), ignore_index = True) # if word is present then append it to temporary dataframe\n",
      "C:\\Users\\susan\\AppData\\Local\\Temp\\ipykernel_2340\\1633527202.py:16: FutureWarning: The frame.append method is deprecated and will be removed from pandas in a future version. Use pandas.concat instead.\n",
      "  docs_vectors = docs_vectors.append(doc_vector, ignore_index = True) # append each document value to the final dataframe\n",
      "C:\\Users\\susan\\AppData\\Local\\Temp\\ipykernel_2340\\1633527202.py:12: FutureWarning: The frame.append method is deprecated and will be removed from pandas in a future version. Use pandas.concat instead.\n",
      "  temp = temp.append(pd.Series(word_vec), ignore_index = True) # if word is present then append it to temporary dataframe\n",
      "C:\\Users\\susan\\AppData\\Local\\Temp\\ipykernel_2340\\1633527202.py:12: FutureWarning: The frame.append method is deprecated and will be removed from pandas in a future version. Use pandas.concat instead.\n",
      "  temp = temp.append(pd.Series(word_vec), ignore_index = True) # if word is present then append it to temporary dataframe\n",
      "C:\\Users\\susan\\AppData\\Local\\Temp\\ipykernel_2340\\1633527202.py:16: FutureWarning: The frame.append method is deprecated and will be removed from pandas in a future version. Use pandas.concat instead.\n",
      "  docs_vectors = docs_vectors.append(doc_vector, ignore_index = True) # append each document value to the final dataframe\n",
      "C:\\Users\\susan\\AppData\\Local\\Temp\\ipykernel_2340\\1633527202.py:12: FutureWarning: The frame.append method is deprecated and will be removed from pandas in a future version. Use pandas.concat instead.\n",
      "  temp = temp.append(pd.Series(word_vec), ignore_index = True) # if word is present then append it to temporary dataframe\n",
      "C:\\Users\\susan\\AppData\\Local\\Temp\\ipykernel_2340\\1633527202.py:12: FutureWarning: The frame.append method is deprecated and will be removed from pandas in a future version. Use pandas.concat instead.\n",
      "  temp = temp.append(pd.Series(word_vec), ignore_index = True) # if word is present then append it to temporary dataframe\n",
      "C:\\Users\\susan\\AppData\\Local\\Temp\\ipykernel_2340\\1633527202.py:16: FutureWarning: The frame.append method is deprecated and will be removed from pandas in a future version. Use pandas.concat instead.\n",
      "  docs_vectors = docs_vectors.append(doc_vector, ignore_index = True) # append each document value to the final dataframe\n",
      "C:\\Users\\susan\\AppData\\Local\\Temp\\ipykernel_2340\\1633527202.py:12: FutureWarning: The frame.append method is deprecated and will be removed from pandas in a future version. Use pandas.concat instead.\n",
      "  temp = temp.append(pd.Series(word_vec), ignore_index = True) # if word is present then append it to temporary dataframe\n",
      "C:\\Users\\susan\\AppData\\Local\\Temp\\ipykernel_2340\\1633527202.py:12: FutureWarning: The frame.append method is deprecated and will be removed from pandas in a future version. Use pandas.concat instead.\n",
      "  temp = temp.append(pd.Series(word_vec), ignore_index = True) # if word is present then append it to temporary dataframe\n",
      "C:\\Users\\susan\\AppData\\Local\\Temp\\ipykernel_2340\\1633527202.py:16: FutureWarning: The frame.append method is deprecated and will be removed from pandas in a future version. Use pandas.concat instead.\n",
      "  docs_vectors = docs_vectors.append(doc_vector, ignore_index = True) # append each document value to the final dataframe\n",
      "C:\\Users\\susan\\AppData\\Local\\Temp\\ipykernel_2340\\1633527202.py:12: FutureWarning: The frame.append method is deprecated and will be removed from pandas in a future version. Use pandas.concat instead.\n",
      "  temp = temp.append(pd.Series(word_vec), ignore_index = True) # if word is present then append it to temporary dataframe\n",
      "C:\\Users\\susan\\AppData\\Local\\Temp\\ipykernel_2340\\1633527202.py:12: FutureWarning: The frame.append method is deprecated and will be removed from pandas in a future version. Use pandas.concat instead.\n",
      "  temp = temp.append(pd.Series(word_vec), ignore_index = True) # if word is present then append it to temporary dataframe\n",
      "C:\\Users\\susan\\AppData\\Local\\Temp\\ipykernel_2340\\1633527202.py:16: FutureWarning: The frame.append method is deprecated and will be removed from pandas in a future version. Use pandas.concat instead.\n",
      "  docs_vectors = docs_vectors.append(doc_vector, ignore_index = True) # append each document value to the final dataframe\n",
      "C:\\Users\\susan\\AppData\\Local\\Temp\\ipykernel_2340\\1633527202.py:12: FutureWarning: The frame.append method is deprecated and will be removed from pandas in a future version. Use pandas.concat instead.\n",
      "  temp = temp.append(pd.Series(word_vec), ignore_index = True) # if word is present then append it to temporary dataframe\n",
      "C:\\Users\\susan\\AppData\\Local\\Temp\\ipykernel_2340\\1633527202.py:12: FutureWarning: The frame.append method is deprecated and will be removed from pandas in a future version. Use pandas.concat instead.\n",
      "  temp = temp.append(pd.Series(word_vec), ignore_index = True) # if word is present then append it to temporary dataframe\n"
     ]
    },
    {
     "name": "stderr",
     "output_type": "stream",
     "text": [
      "C:\\Users\\susan\\AppData\\Local\\Temp\\ipykernel_2340\\1633527202.py:16: FutureWarning: The frame.append method is deprecated and will be removed from pandas in a future version. Use pandas.concat instead.\n",
      "  docs_vectors = docs_vectors.append(doc_vector, ignore_index = True) # append each document value to the final dataframe\n",
      "C:\\Users\\susan\\AppData\\Local\\Temp\\ipykernel_2340\\1633527202.py:12: FutureWarning: The frame.append method is deprecated and will be removed from pandas in a future version. Use pandas.concat instead.\n",
      "  temp = temp.append(pd.Series(word_vec), ignore_index = True) # if word is present then append it to temporary dataframe\n",
      "C:\\Users\\susan\\AppData\\Local\\Temp\\ipykernel_2340\\1633527202.py:12: FutureWarning: The frame.append method is deprecated and will be removed from pandas in a future version. Use pandas.concat instead.\n",
      "  temp = temp.append(pd.Series(word_vec), ignore_index = True) # if word is present then append it to temporary dataframe\n",
      "C:\\Users\\susan\\AppData\\Local\\Temp\\ipykernel_2340\\1633527202.py:16: FutureWarning: The frame.append method is deprecated and will be removed from pandas in a future version. Use pandas.concat instead.\n",
      "  docs_vectors = docs_vectors.append(doc_vector, ignore_index = True) # append each document value to the final dataframe\n",
      "C:\\Users\\susan\\AppData\\Local\\Temp\\ipykernel_2340\\1633527202.py:12: FutureWarning: The frame.append method is deprecated and will be removed from pandas in a future version. Use pandas.concat instead.\n",
      "  temp = temp.append(pd.Series(word_vec), ignore_index = True) # if word is present then append it to temporary dataframe\n",
      "C:\\Users\\susan\\AppData\\Local\\Temp\\ipykernel_2340\\1633527202.py:12: FutureWarning: The frame.append method is deprecated and will be removed from pandas in a future version. Use pandas.concat instead.\n",
      "  temp = temp.append(pd.Series(word_vec), ignore_index = True) # if word is present then append it to temporary dataframe\n",
      "C:\\Users\\susan\\AppData\\Local\\Temp\\ipykernel_2340\\1633527202.py:16: FutureWarning: The frame.append method is deprecated and will be removed from pandas in a future version. Use pandas.concat instead.\n",
      "  docs_vectors = docs_vectors.append(doc_vector, ignore_index = True) # append each document value to the final dataframe\n",
      "C:\\Users\\susan\\AppData\\Local\\Temp\\ipykernel_2340\\1633527202.py:12: FutureWarning: The frame.append method is deprecated and will be removed from pandas in a future version. Use pandas.concat instead.\n",
      "  temp = temp.append(pd.Series(word_vec), ignore_index = True) # if word is present then append it to temporary dataframe\n",
      "C:\\Users\\susan\\AppData\\Local\\Temp\\ipykernel_2340\\1633527202.py:12: FutureWarning: The frame.append method is deprecated and will be removed from pandas in a future version. Use pandas.concat instead.\n",
      "  temp = temp.append(pd.Series(word_vec), ignore_index = True) # if word is present then append it to temporary dataframe\n",
      "C:\\Users\\susan\\AppData\\Local\\Temp\\ipykernel_2340\\1633527202.py:16: FutureWarning: The frame.append method is deprecated and will be removed from pandas in a future version. Use pandas.concat instead.\n",
      "  docs_vectors = docs_vectors.append(doc_vector, ignore_index = True) # append each document value to the final dataframe\n",
      "C:\\Users\\susan\\AppData\\Local\\Temp\\ipykernel_2340\\1633527202.py:12: FutureWarning: The frame.append method is deprecated and will be removed from pandas in a future version. Use pandas.concat instead.\n",
      "  temp = temp.append(pd.Series(word_vec), ignore_index = True) # if word is present then append it to temporary dataframe\n",
      "C:\\Users\\susan\\AppData\\Local\\Temp\\ipykernel_2340\\1633527202.py:12: FutureWarning: The frame.append method is deprecated and will be removed from pandas in a future version. Use pandas.concat instead.\n",
      "  temp = temp.append(pd.Series(word_vec), ignore_index = True) # if word is present then append it to temporary dataframe\n",
      "C:\\Users\\susan\\AppData\\Local\\Temp\\ipykernel_2340\\1633527202.py:16: FutureWarning: The frame.append method is deprecated and will be removed from pandas in a future version. Use pandas.concat instead.\n",
      "  docs_vectors = docs_vectors.append(doc_vector, ignore_index = True) # append each document value to the final dataframe\n",
      "C:\\Users\\susan\\AppData\\Local\\Temp\\ipykernel_2340\\1633527202.py:12: FutureWarning: The frame.append method is deprecated and will be removed from pandas in a future version. Use pandas.concat instead.\n",
      "  temp = temp.append(pd.Series(word_vec), ignore_index = True) # if word is present then append it to temporary dataframe\n",
      "C:\\Users\\susan\\AppData\\Local\\Temp\\ipykernel_2340\\1633527202.py:12: FutureWarning: The frame.append method is deprecated and will be removed from pandas in a future version. Use pandas.concat instead.\n",
      "  temp = temp.append(pd.Series(word_vec), ignore_index = True) # if word is present then append it to temporary dataframe\n",
      "C:\\Users\\susan\\AppData\\Local\\Temp\\ipykernel_2340\\1633527202.py:16: FutureWarning: The frame.append method is deprecated and will be removed from pandas in a future version. Use pandas.concat instead.\n",
      "  docs_vectors = docs_vectors.append(doc_vector, ignore_index = True) # append each document value to the final dataframe\n",
      "C:\\Users\\susan\\AppData\\Local\\Temp\\ipykernel_2340\\1633527202.py:12: FutureWarning: The frame.append method is deprecated and will be removed from pandas in a future version. Use pandas.concat instead.\n",
      "  temp = temp.append(pd.Series(word_vec), ignore_index = True) # if word is present then append it to temporary dataframe\n",
      "C:\\Users\\susan\\AppData\\Local\\Temp\\ipykernel_2340\\1633527202.py:12: FutureWarning: The frame.append method is deprecated and will be removed from pandas in a future version. Use pandas.concat instead.\n",
      "  temp = temp.append(pd.Series(word_vec), ignore_index = True) # if word is present then append it to temporary dataframe\n",
      "C:\\Users\\susan\\AppData\\Local\\Temp\\ipykernel_2340\\1633527202.py:16: FutureWarning: The frame.append method is deprecated and will be removed from pandas in a future version. Use pandas.concat instead.\n",
      "  docs_vectors = docs_vectors.append(doc_vector, ignore_index = True) # append each document value to the final dataframe\n",
      "C:\\Users\\susan\\AppData\\Local\\Temp\\ipykernel_2340\\1633527202.py:12: FutureWarning: The frame.append method is deprecated and will be removed from pandas in a future version. Use pandas.concat instead.\n",
      "  temp = temp.append(pd.Series(word_vec), ignore_index = True) # if word is present then append it to temporary dataframe\n",
      "C:\\Users\\susan\\AppData\\Local\\Temp\\ipykernel_2340\\1633527202.py:12: FutureWarning: The frame.append method is deprecated and will be removed from pandas in a future version. Use pandas.concat instead.\n",
      "  temp = temp.append(pd.Series(word_vec), ignore_index = True) # if word is present then append it to temporary dataframe\n",
      "C:\\Users\\susan\\AppData\\Local\\Temp\\ipykernel_2340\\1633527202.py:16: FutureWarning: The frame.append method is deprecated and will be removed from pandas in a future version. Use pandas.concat instead.\n",
      "  docs_vectors = docs_vectors.append(doc_vector, ignore_index = True) # append each document value to the final dataframe\n",
      "C:\\Users\\susan\\AppData\\Local\\Temp\\ipykernel_2340\\1633527202.py:12: FutureWarning: The frame.append method is deprecated and will be removed from pandas in a future version. Use pandas.concat instead.\n",
      "  temp = temp.append(pd.Series(word_vec), ignore_index = True) # if word is present then append it to temporary dataframe\n",
      "C:\\Users\\susan\\AppData\\Local\\Temp\\ipykernel_2340\\1633527202.py:12: FutureWarning: The frame.append method is deprecated and will be removed from pandas in a future version. Use pandas.concat instead.\n",
      "  temp = temp.append(pd.Series(word_vec), ignore_index = True) # if word is present then append it to temporary dataframe\n",
      "C:\\Users\\susan\\AppData\\Local\\Temp\\ipykernel_2340\\1633527202.py:16: FutureWarning: The frame.append method is deprecated and will be removed from pandas in a future version. Use pandas.concat instead.\n",
      "  docs_vectors = docs_vectors.append(doc_vector, ignore_index = True) # append each document value to the final dataframe\n",
      "C:\\Users\\susan\\AppData\\Local\\Temp\\ipykernel_2340\\1633527202.py:12: FutureWarning: The frame.append method is deprecated and will be removed from pandas in a future version. Use pandas.concat instead.\n",
      "  temp = temp.append(pd.Series(word_vec), ignore_index = True) # if word is present then append it to temporary dataframe\n",
      "C:\\Users\\susan\\AppData\\Local\\Temp\\ipykernel_2340\\1633527202.py:12: FutureWarning: The frame.append method is deprecated and will be removed from pandas in a future version. Use pandas.concat instead.\n",
      "  temp = temp.append(pd.Series(word_vec), ignore_index = True) # if word is present then append it to temporary dataframe\n"
     ]
    },
    {
     "name": "stderr",
     "output_type": "stream",
     "text": [
      "C:\\Users\\susan\\AppData\\Local\\Temp\\ipykernel_2340\\1633527202.py:16: FutureWarning: The frame.append method is deprecated and will be removed from pandas in a future version. Use pandas.concat instead.\n",
      "  docs_vectors = docs_vectors.append(doc_vector, ignore_index = True) # append each document value to the final dataframe\n",
      "C:\\Users\\susan\\AppData\\Local\\Temp\\ipykernel_2340\\1633527202.py:12: FutureWarning: The frame.append method is deprecated and will be removed from pandas in a future version. Use pandas.concat instead.\n",
      "  temp = temp.append(pd.Series(word_vec), ignore_index = True) # if word is present then append it to temporary dataframe\n",
      "C:\\Users\\susan\\AppData\\Local\\Temp\\ipykernel_2340\\1633527202.py:12: FutureWarning: The frame.append method is deprecated and will be removed from pandas in a future version. Use pandas.concat instead.\n",
      "  temp = temp.append(pd.Series(word_vec), ignore_index = True) # if word is present then append it to temporary dataframe\n",
      "C:\\Users\\susan\\AppData\\Local\\Temp\\ipykernel_2340\\1633527202.py:16: FutureWarning: The frame.append method is deprecated and will be removed from pandas in a future version. Use pandas.concat instead.\n",
      "  docs_vectors = docs_vectors.append(doc_vector, ignore_index = True) # append each document value to the final dataframe\n",
      "C:\\Users\\susan\\AppData\\Local\\Temp\\ipykernel_2340\\1633527202.py:12: FutureWarning: The frame.append method is deprecated and will be removed from pandas in a future version. Use pandas.concat instead.\n",
      "  temp = temp.append(pd.Series(word_vec), ignore_index = True) # if word is present then append it to temporary dataframe\n",
      "C:\\Users\\susan\\AppData\\Local\\Temp\\ipykernel_2340\\1633527202.py:12: FutureWarning: The frame.append method is deprecated and will be removed from pandas in a future version. Use pandas.concat instead.\n",
      "  temp = temp.append(pd.Series(word_vec), ignore_index = True) # if word is present then append it to temporary dataframe\n",
      "C:\\Users\\susan\\AppData\\Local\\Temp\\ipykernel_2340\\1633527202.py:16: FutureWarning: The frame.append method is deprecated and will be removed from pandas in a future version. Use pandas.concat instead.\n",
      "  docs_vectors = docs_vectors.append(doc_vector, ignore_index = True) # append each document value to the final dataframe\n",
      "C:\\Users\\susan\\AppData\\Local\\Temp\\ipykernel_2340\\1633527202.py:12: FutureWarning: The frame.append method is deprecated and will be removed from pandas in a future version. Use pandas.concat instead.\n",
      "  temp = temp.append(pd.Series(word_vec), ignore_index = True) # if word is present then append it to temporary dataframe\n",
      "C:\\Users\\susan\\AppData\\Local\\Temp\\ipykernel_2340\\1633527202.py:12: FutureWarning: The frame.append method is deprecated and will be removed from pandas in a future version. Use pandas.concat instead.\n",
      "  temp = temp.append(pd.Series(word_vec), ignore_index = True) # if word is present then append it to temporary dataframe\n",
      "C:\\Users\\susan\\AppData\\Local\\Temp\\ipykernel_2340\\1633527202.py:16: FutureWarning: The frame.append method is deprecated and will be removed from pandas in a future version. Use pandas.concat instead.\n",
      "  docs_vectors = docs_vectors.append(doc_vector, ignore_index = True) # append each document value to the final dataframe\n",
      "C:\\Users\\susan\\AppData\\Local\\Temp\\ipykernel_2340\\1633527202.py:12: FutureWarning: The frame.append method is deprecated and will be removed from pandas in a future version. Use pandas.concat instead.\n",
      "  temp = temp.append(pd.Series(word_vec), ignore_index = True) # if word is present then append it to temporary dataframe\n",
      "C:\\Users\\susan\\AppData\\Local\\Temp\\ipykernel_2340\\1633527202.py:12: FutureWarning: The frame.append method is deprecated and will be removed from pandas in a future version. Use pandas.concat instead.\n",
      "  temp = temp.append(pd.Series(word_vec), ignore_index = True) # if word is present then append it to temporary dataframe\n",
      "C:\\Users\\susan\\AppData\\Local\\Temp\\ipykernel_2340\\1633527202.py:16: FutureWarning: The frame.append method is deprecated and will be removed from pandas in a future version. Use pandas.concat instead.\n",
      "  docs_vectors = docs_vectors.append(doc_vector, ignore_index = True) # append each document value to the final dataframe\n",
      "C:\\Users\\susan\\AppData\\Local\\Temp\\ipykernel_2340\\1633527202.py:12: FutureWarning: The frame.append method is deprecated and will be removed from pandas in a future version. Use pandas.concat instead.\n",
      "  temp = temp.append(pd.Series(word_vec), ignore_index = True) # if word is present then append it to temporary dataframe\n",
      "C:\\Users\\susan\\AppData\\Local\\Temp\\ipykernel_2340\\1633527202.py:12: FutureWarning: The frame.append method is deprecated and will be removed from pandas in a future version. Use pandas.concat instead.\n",
      "  temp = temp.append(pd.Series(word_vec), ignore_index = True) # if word is present then append it to temporary dataframe\n",
      "C:\\Users\\susan\\AppData\\Local\\Temp\\ipykernel_2340\\1633527202.py:16: FutureWarning: The frame.append method is deprecated and will be removed from pandas in a future version. Use pandas.concat instead.\n",
      "  docs_vectors = docs_vectors.append(doc_vector, ignore_index = True) # append each document value to the final dataframe\n",
      "C:\\Users\\susan\\AppData\\Local\\Temp\\ipykernel_2340\\1633527202.py:12: FutureWarning: The frame.append method is deprecated and will be removed from pandas in a future version. Use pandas.concat instead.\n",
      "  temp = temp.append(pd.Series(word_vec), ignore_index = True) # if word is present then append it to temporary dataframe\n",
      "C:\\Users\\susan\\AppData\\Local\\Temp\\ipykernel_2340\\1633527202.py:12: FutureWarning: The frame.append method is deprecated and will be removed from pandas in a future version. Use pandas.concat instead.\n",
      "  temp = temp.append(pd.Series(word_vec), ignore_index = True) # if word is present then append it to temporary dataframe\n",
      "C:\\Users\\susan\\AppData\\Local\\Temp\\ipykernel_2340\\1633527202.py:16: FutureWarning: The frame.append method is deprecated and will be removed from pandas in a future version. Use pandas.concat instead.\n",
      "  docs_vectors = docs_vectors.append(doc_vector, ignore_index = True) # append each document value to the final dataframe\n",
      "C:\\Users\\susan\\AppData\\Local\\Temp\\ipykernel_2340\\1633527202.py:12: FutureWarning: The frame.append method is deprecated and will be removed from pandas in a future version. Use pandas.concat instead.\n",
      "  temp = temp.append(pd.Series(word_vec), ignore_index = True) # if word is present then append it to temporary dataframe\n",
      "C:\\Users\\susan\\AppData\\Local\\Temp\\ipykernel_2340\\1633527202.py:12: FutureWarning: The frame.append method is deprecated and will be removed from pandas in a future version. Use pandas.concat instead.\n",
      "  temp = temp.append(pd.Series(word_vec), ignore_index = True) # if word is present then append it to temporary dataframe\n",
      "C:\\Users\\susan\\AppData\\Local\\Temp\\ipykernel_2340\\1633527202.py:16: FutureWarning: The frame.append method is deprecated and will be removed from pandas in a future version. Use pandas.concat instead.\n",
      "  docs_vectors = docs_vectors.append(doc_vector, ignore_index = True) # append each document value to the final dataframe\n",
      "C:\\Users\\susan\\AppData\\Local\\Temp\\ipykernel_2340\\1633527202.py:12: FutureWarning: The frame.append method is deprecated and will be removed from pandas in a future version. Use pandas.concat instead.\n",
      "  temp = temp.append(pd.Series(word_vec), ignore_index = True) # if word is present then append it to temporary dataframe\n",
      "C:\\Users\\susan\\AppData\\Local\\Temp\\ipykernel_2340\\1633527202.py:12: FutureWarning: The frame.append method is deprecated and will be removed from pandas in a future version. Use pandas.concat instead.\n",
      "  temp = temp.append(pd.Series(word_vec), ignore_index = True) # if word is present then append it to temporary dataframe\n",
      "C:\\Users\\susan\\AppData\\Local\\Temp\\ipykernel_2340\\1633527202.py:16: FutureWarning: The frame.append method is deprecated and will be removed from pandas in a future version. Use pandas.concat instead.\n",
      "  docs_vectors = docs_vectors.append(doc_vector, ignore_index = True) # append each document value to the final dataframe\n",
      "C:\\Users\\susan\\AppData\\Local\\Temp\\ipykernel_2340\\1633527202.py:12: FutureWarning: The frame.append method is deprecated and will be removed from pandas in a future version. Use pandas.concat instead.\n",
      "  temp = temp.append(pd.Series(word_vec), ignore_index = True) # if word is present then append it to temporary dataframe\n",
      "C:\\Users\\susan\\AppData\\Local\\Temp\\ipykernel_2340\\1633527202.py:12: FutureWarning: The frame.append method is deprecated and will be removed from pandas in a future version. Use pandas.concat instead.\n",
      "  temp = temp.append(pd.Series(word_vec), ignore_index = True) # if word is present then append it to temporary dataframe\n"
     ]
    },
    {
     "name": "stderr",
     "output_type": "stream",
     "text": [
      "C:\\Users\\susan\\AppData\\Local\\Temp\\ipykernel_2340\\1633527202.py:16: FutureWarning: The frame.append method is deprecated and will be removed from pandas in a future version. Use pandas.concat instead.\n",
      "  docs_vectors = docs_vectors.append(doc_vector, ignore_index = True) # append each document value to the final dataframe\n",
      "C:\\Users\\susan\\AppData\\Local\\Temp\\ipykernel_2340\\1633527202.py:12: FutureWarning: The frame.append method is deprecated and will be removed from pandas in a future version. Use pandas.concat instead.\n",
      "  temp = temp.append(pd.Series(word_vec), ignore_index = True) # if word is present then append it to temporary dataframe\n",
      "C:\\Users\\susan\\AppData\\Local\\Temp\\ipykernel_2340\\1633527202.py:12: FutureWarning: The frame.append method is deprecated and will be removed from pandas in a future version. Use pandas.concat instead.\n",
      "  temp = temp.append(pd.Series(word_vec), ignore_index = True) # if word is present then append it to temporary dataframe\n",
      "C:\\Users\\susan\\AppData\\Local\\Temp\\ipykernel_2340\\1633527202.py:16: FutureWarning: The frame.append method is deprecated and will be removed from pandas in a future version. Use pandas.concat instead.\n",
      "  docs_vectors = docs_vectors.append(doc_vector, ignore_index = True) # append each document value to the final dataframe\n",
      "C:\\Users\\susan\\AppData\\Local\\Temp\\ipykernel_2340\\1633527202.py:12: FutureWarning: The frame.append method is deprecated and will be removed from pandas in a future version. Use pandas.concat instead.\n",
      "  temp = temp.append(pd.Series(word_vec), ignore_index = True) # if word is present then append it to temporary dataframe\n",
      "C:\\Users\\susan\\AppData\\Local\\Temp\\ipykernel_2340\\1633527202.py:12: FutureWarning: The frame.append method is deprecated and will be removed from pandas in a future version. Use pandas.concat instead.\n",
      "  temp = temp.append(pd.Series(word_vec), ignore_index = True) # if word is present then append it to temporary dataframe\n",
      "C:\\Users\\susan\\AppData\\Local\\Temp\\ipykernel_2340\\1633527202.py:16: FutureWarning: The frame.append method is deprecated and will be removed from pandas in a future version. Use pandas.concat instead.\n",
      "  docs_vectors = docs_vectors.append(doc_vector, ignore_index = True) # append each document value to the final dataframe\n",
      "C:\\Users\\susan\\AppData\\Local\\Temp\\ipykernel_2340\\1633527202.py:12: FutureWarning: The frame.append method is deprecated and will be removed from pandas in a future version. Use pandas.concat instead.\n",
      "  temp = temp.append(pd.Series(word_vec), ignore_index = True) # if word is present then append it to temporary dataframe\n",
      "C:\\Users\\susan\\AppData\\Local\\Temp\\ipykernel_2340\\1633527202.py:12: FutureWarning: The frame.append method is deprecated and will be removed from pandas in a future version. Use pandas.concat instead.\n",
      "  temp = temp.append(pd.Series(word_vec), ignore_index = True) # if word is present then append it to temporary dataframe\n",
      "C:\\Users\\susan\\AppData\\Local\\Temp\\ipykernel_2340\\1633527202.py:16: FutureWarning: The frame.append method is deprecated and will be removed from pandas in a future version. Use pandas.concat instead.\n",
      "  docs_vectors = docs_vectors.append(doc_vector, ignore_index = True) # append each document value to the final dataframe\n",
      "C:\\Users\\susan\\AppData\\Local\\Temp\\ipykernel_2340\\1633527202.py:12: FutureWarning: The frame.append method is deprecated and will be removed from pandas in a future version. Use pandas.concat instead.\n",
      "  temp = temp.append(pd.Series(word_vec), ignore_index = True) # if word is present then append it to temporary dataframe\n",
      "C:\\Users\\susan\\AppData\\Local\\Temp\\ipykernel_2340\\1633527202.py:12: FutureWarning: The frame.append method is deprecated and will be removed from pandas in a future version. Use pandas.concat instead.\n",
      "  temp = temp.append(pd.Series(word_vec), ignore_index = True) # if word is present then append it to temporary dataframe\n",
      "C:\\Users\\susan\\AppData\\Local\\Temp\\ipykernel_2340\\1633527202.py:16: FutureWarning: The frame.append method is deprecated and will be removed from pandas in a future version. Use pandas.concat instead.\n",
      "  docs_vectors = docs_vectors.append(doc_vector, ignore_index = True) # append each document value to the final dataframe\n",
      "C:\\Users\\susan\\AppData\\Local\\Temp\\ipykernel_2340\\1633527202.py:12: FutureWarning: The frame.append method is deprecated and will be removed from pandas in a future version. Use pandas.concat instead.\n",
      "  temp = temp.append(pd.Series(word_vec), ignore_index = True) # if word is present then append it to temporary dataframe\n",
      "C:\\Users\\susan\\AppData\\Local\\Temp\\ipykernel_2340\\1633527202.py:12: FutureWarning: The frame.append method is deprecated and will be removed from pandas in a future version. Use pandas.concat instead.\n",
      "  temp = temp.append(pd.Series(word_vec), ignore_index = True) # if word is present then append it to temporary dataframe\n",
      "C:\\Users\\susan\\AppData\\Local\\Temp\\ipykernel_2340\\1633527202.py:16: FutureWarning: The frame.append method is deprecated and will be removed from pandas in a future version. Use pandas.concat instead.\n",
      "  docs_vectors = docs_vectors.append(doc_vector, ignore_index = True) # append each document value to the final dataframe\n",
      "C:\\Users\\susan\\AppData\\Local\\Temp\\ipykernel_2340\\1633527202.py:12: FutureWarning: The frame.append method is deprecated and will be removed from pandas in a future version. Use pandas.concat instead.\n",
      "  temp = temp.append(pd.Series(word_vec), ignore_index = True) # if word is present then append it to temporary dataframe\n",
      "C:\\Users\\susan\\AppData\\Local\\Temp\\ipykernel_2340\\1633527202.py:12: FutureWarning: The frame.append method is deprecated and will be removed from pandas in a future version. Use pandas.concat instead.\n",
      "  temp = temp.append(pd.Series(word_vec), ignore_index = True) # if word is present then append it to temporary dataframe\n",
      "C:\\Users\\susan\\AppData\\Local\\Temp\\ipykernel_2340\\1633527202.py:16: FutureWarning: The frame.append method is deprecated and will be removed from pandas in a future version. Use pandas.concat instead.\n",
      "  docs_vectors = docs_vectors.append(doc_vector, ignore_index = True) # append each document value to the final dataframe\n",
      "C:\\Users\\susan\\AppData\\Local\\Temp\\ipykernel_2340\\1633527202.py:12: FutureWarning: The frame.append method is deprecated and will be removed from pandas in a future version. Use pandas.concat instead.\n",
      "  temp = temp.append(pd.Series(word_vec), ignore_index = True) # if word is present then append it to temporary dataframe\n",
      "C:\\Users\\susan\\AppData\\Local\\Temp\\ipykernel_2340\\1633527202.py:12: FutureWarning: The frame.append method is deprecated and will be removed from pandas in a future version. Use pandas.concat instead.\n",
      "  temp = temp.append(pd.Series(word_vec), ignore_index = True) # if word is present then append it to temporary dataframe\n",
      "C:\\Users\\susan\\AppData\\Local\\Temp\\ipykernel_2340\\1633527202.py:16: FutureWarning: The frame.append method is deprecated and will be removed from pandas in a future version. Use pandas.concat instead.\n",
      "  docs_vectors = docs_vectors.append(doc_vector, ignore_index = True) # append each document value to the final dataframe\n",
      "C:\\Users\\susan\\AppData\\Local\\Temp\\ipykernel_2340\\1633527202.py:12: FutureWarning: The frame.append method is deprecated and will be removed from pandas in a future version. Use pandas.concat instead.\n",
      "  temp = temp.append(pd.Series(word_vec), ignore_index = True) # if word is present then append it to temporary dataframe\n",
      "C:\\Users\\susan\\AppData\\Local\\Temp\\ipykernel_2340\\1633527202.py:12: FutureWarning: The frame.append method is deprecated and will be removed from pandas in a future version. Use pandas.concat instead.\n",
      "  temp = temp.append(pd.Series(word_vec), ignore_index = True) # if word is present then append it to temporary dataframe\n",
      "C:\\Users\\susan\\AppData\\Local\\Temp\\ipykernel_2340\\1633527202.py:16: FutureWarning: The frame.append method is deprecated and will be removed from pandas in a future version. Use pandas.concat instead.\n",
      "  docs_vectors = docs_vectors.append(doc_vector, ignore_index = True) # append each document value to the final dataframe\n",
      "C:\\Users\\susan\\AppData\\Local\\Temp\\ipykernel_2340\\1633527202.py:12: FutureWarning: The frame.append method is deprecated and will be removed from pandas in a future version. Use pandas.concat instead.\n",
      "  temp = temp.append(pd.Series(word_vec), ignore_index = True) # if word is present then append it to temporary dataframe\n",
      "C:\\Users\\susan\\AppData\\Local\\Temp\\ipykernel_2340\\1633527202.py:12: FutureWarning: The frame.append method is deprecated and will be removed from pandas in a future version. Use pandas.concat instead.\n",
      "  temp = temp.append(pd.Series(word_vec), ignore_index = True) # if word is present then append it to temporary dataframe\n"
     ]
    },
    {
     "name": "stderr",
     "output_type": "stream",
     "text": [
      "C:\\Users\\susan\\AppData\\Local\\Temp\\ipykernel_2340\\1633527202.py:16: FutureWarning: The frame.append method is deprecated and will be removed from pandas in a future version. Use pandas.concat instead.\n",
      "  docs_vectors = docs_vectors.append(doc_vector, ignore_index = True) # append each document value to the final dataframe\n",
      "C:\\Users\\susan\\AppData\\Local\\Temp\\ipykernel_2340\\1633527202.py:12: FutureWarning: The frame.append method is deprecated and will be removed from pandas in a future version. Use pandas.concat instead.\n",
      "  temp = temp.append(pd.Series(word_vec), ignore_index = True) # if word is present then append it to temporary dataframe\n",
      "C:\\Users\\susan\\AppData\\Local\\Temp\\ipykernel_2340\\1633527202.py:12: FutureWarning: The frame.append method is deprecated and will be removed from pandas in a future version. Use pandas.concat instead.\n",
      "  temp = temp.append(pd.Series(word_vec), ignore_index = True) # if word is present then append it to temporary dataframe\n",
      "C:\\Users\\susan\\AppData\\Local\\Temp\\ipykernel_2340\\1633527202.py:16: FutureWarning: The frame.append method is deprecated and will be removed from pandas in a future version. Use pandas.concat instead.\n",
      "  docs_vectors = docs_vectors.append(doc_vector, ignore_index = True) # append each document value to the final dataframe\n",
      "C:\\Users\\susan\\AppData\\Local\\Temp\\ipykernel_2340\\1633527202.py:12: FutureWarning: The frame.append method is deprecated and will be removed from pandas in a future version. Use pandas.concat instead.\n",
      "  temp = temp.append(pd.Series(word_vec), ignore_index = True) # if word is present then append it to temporary dataframe\n",
      "C:\\Users\\susan\\AppData\\Local\\Temp\\ipykernel_2340\\1633527202.py:12: FutureWarning: The frame.append method is deprecated and will be removed from pandas in a future version. Use pandas.concat instead.\n",
      "  temp = temp.append(pd.Series(word_vec), ignore_index = True) # if word is present then append it to temporary dataframe\n",
      "C:\\Users\\susan\\AppData\\Local\\Temp\\ipykernel_2340\\1633527202.py:16: FutureWarning: The frame.append method is deprecated and will be removed from pandas in a future version. Use pandas.concat instead.\n",
      "  docs_vectors = docs_vectors.append(doc_vector, ignore_index = True) # append each document value to the final dataframe\n",
      "C:\\Users\\susan\\AppData\\Local\\Temp\\ipykernel_2340\\1633527202.py:12: FutureWarning: The frame.append method is deprecated and will be removed from pandas in a future version. Use pandas.concat instead.\n",
      "  temp = temp.append(pd.Series(word_vec), ignore_index = True) # if word is present then append it to temporary dataframe\n",
      "C:\\Users\\susan\\AppData\\Local\\Temp\\ipykernel_2340\\1633527202.py:12: FutureWarning: The frame.append method is deprecated and will be removed from pandas in a future version. Use pandas.concat instead.\n",
      "  temp = temp.append(pd.Series(word_vec), ignore_index = True) # if word is present then append it to temporary dataframe\n",
      "C:\\Users\\susan\\AppData\\Local\\Temp\\ipykernel_2340\\1633527202.py:16: FutureWarning: The frame.append method is deprecated and will be removed from pandas in a future version. Use pandas.concat instead.\n",
      "  docs_vectors = docs_vectors.append(doc_vector, ignore_index = True) # append each document value to the final dataframe\n",
      "C:\\Users\\susan\\AppData\\Local\\Temp\\ipykernel_2340\\1633527202.py:12: FutureWarning: The frame.append method is deprecated and will be removed from pandas in a future version. Use pandas.concat instead.\n",
      "  temp = temp.append(pd.Series(word_vec), ignore_index = True) # if word is present then append it to temporary dataframe\n",
      "C:\\Users\\susan\\AppData\\Local\\Temp\\ipykernel_2340\\1633527202.py:12: FutureWarning: The frame.append method is deprecated and will be removed from pandas in a future version. Use pandas.concat instead.\n",
      "  temp = temp.append(pd.Series(word_vec), ignore_index = True) # if word is present then append it to temporary dataframe\n",
      "C:\\Users\\susan\\AppData\\Local\\Temp\\ipykernel_2340\\1633527202.py:16: FutureWarning: The frame.append method is deprecated and will be removed from pandas in a future version. Use pandas.concat instead.\n",
      "  docs_vectors = docs_vectors.append(doc_vector, ignore_index = True) # append each document value to the final dataframe\n",
      "C:\\Users\\susan\\AppData\\Local\\Temp\\ipykernel_2340\\1633527202.py:12: FutureWarning: The frame.append method is deprecated and will be removed from pandas in a future version. Use pandas.concat instead.\n",
      "  temp = temp.append(pd.Series(word_vec), ignore_index = True) # if word is present then append it to temporary dataframe\n",
      "C:\\Users\\susan\\AppData\\Local\\Temp\\ipykernel_2340\\1633527202.py:12: FutureWarning: The frame.append method is deprecated and will be removed from pandas in a future version. Use pandas.concat instead.\n",
      "  temp = temp.append(pd.Series(word_vec), ignore_index = True) # if word is present then append it to temporary dataframe\n",
      "C:\\Users\\susan\\AppData\\Local\\Temp\\ipykernel_2340\\1633527202.py:16: FutureWarning: The frame.append method is deprecated and will be removed from pandas in a future version. Use pandas.concat instead.\n",
      "  docs_vectors = docs_vectors.append(doc_vector, ignore_index = True) # append each document value to the final dataframe\n",
      "C:\\Users\\susan\\AppData\\Local\\Temp\\ipykernel_2340\\1633527202.py:12: FutureWarning: The frame.append method is deprecated and will be removed from pandas in a future version. Use pandas.concat instead.\n",
      "  temp = temp.append(pd.Series(word_vec), ignore_index = True) # if word is present then append it to temporary dataframe\n",
      "C:\\Users\\susan\\AppData\\Local\\Temp\\ipykernel_2340\\1633527202.py:12: FutureWarning: The frame.append method is deprecated and will be removed from pandas in a future version. Use pandas.concat instead.\n",
      "  temp = temp.append(pd.Series(word_vec), ignore_index = True) # if word is present then append it to temporary dataframe\n",
      "C:\\Users\\susan\\AppData\\Local\\Temp\\ipykernel_2340\\1633527202.py:16: FutureWarning: The frame.append method is deprecated and will be removed from pandas in a future version. Use pandas.concat instead.\n",
      "  docs_vectors = docs_vectors.append(doc_vector, ignore_index = True) # append each document value to the final dataframe\n",
      "C:\\Users\\susan\\AppData\\Local\\Temp\\ipykernel_2340\\1633527202.py:12: FutureWarning: The frame.append method is deprecated and will be removed from pandas in a future version. Use pandas.concat instead.\n",
      "  temp = temp.append(pd.Series(word_vec), ignore_index = True) # if word is present then append it to temporary dataframe\n",
      "C:\\Users\\susan\\AppData\\Local\\Temp\\ipykernel_2340\\1633527202.py:12: FutureWarning: The frame.append method is deprecated and will be removed from pandas in a future version. Use pandas.concat instead.\n",
      "  temp = temp.append(pd.Series(word_vec), ignore_index = True) # if word is present then append it to temporary dataframe\n",
      "C:\\Users\\susan\\AppData\\Local\\Temp\\ipykernel_2340\\1633527202.py:16: FutureWarning: The frame.append method is deprecated and will be removed from pandas in a future version. Use pandas.concat instead.\n",
      "  docs_vectors = docs_vectors.append(doc_vector, ignore_index = True) # append each document value to the final dataframe\n",
      "C:\\Users\\susan\\AppData\\Local\\Temp\\ipykernel_2340\\1633527202.py:12: FutureWarning: The frame.append method is deprecated and will be removed from pandas in a future version. Use pandas.concat instead.\n",
      "  temp = temp.append(pd.Series(word_vec), ignore_index = True) # if word is present then append it to temporary dataframe\n",
      "C:\\Users\\susan\\AppData\\Local\\Temp\\ipykernel_2340\\1633527202.py:12: FutureWarning: The frame.append method is deprecated and will be removed from pandas in a future version. Use pandas.concat instead.\n",
      "  temp = temp.append(pd.Series(word_vec), ignore_index = True) # if word is present then append it to temporary dataframe\n",
      "C:\\Users\\susan\\AppData\\Local\\Temp\\ipykernel_2340\\1633527202.py:16: FutureWarning: The frame.append method is deprecated and will be removed from pandas in a future version. Use pandas.concat instead.\n",
      "  docs_vectors = docs_vectors.append(doc_vector, ignore_index = True) # append each document value to the final dataframe\n",
      "C:\\Users\\susan\\AppData\\Local\\Temp\\ipykernel_2340\\1633527202.py:12: FutureWarning: The frame.append method is deprecated and will be removed from pandas in a future version. Use pandas.concat instead.\n",
      "  temp = temp.append(pd.Series(word_vec), ignore_index = True) # if word is present then append it to temporary dataframe\n",
      "C:\\Users\\susan\\AppData\\Local\\Temp\\ipykernel_2340\\1633527202.py:12: FutureWarning: The frame.append method is deprecated and will be removed from pandas in a future version. Use pandas.concat instead.\n",
      "  temp = temp.append(pd.Series(word_vec), ignore_index = True) # if word is present then append it to temporary dataframe\n"
     ]
    },
    {
     "name": "stderr",
     "output_type": "stream",
     "text": [
      "C:\\Users\\susan\\AppData\\Local\\Temp\\ipykernel_2340\\1633527202.py:16: FutureWarning: The frame.append method is deprecated and will be removed from pandas in a future version. Use pandas.concat instead.\n",
      "  docs_vectors = docs_vectors.append(doc_vector, ignore_index = True) # append each document value to the final dataframe\n",
      "C:\\Users\\susan\\AppData\\Local\\Temp\\ipykernel_2340\\1633527202.py:12: FutureWarning: The frame.append method is deprecated and will be removed from pandas in a future version. Use pandas.concat instead.\n",
      "  temp = temp.append(pd.Series(word_vec), ignore_index = True) # if word is present then append it to temporary dataframe\n",
      "C:\\Users\\susan\\AppData\\Local\\Temp\\ipykernel_2340\\1633527202.py:12: FutureWarning: The frame.append method is deprecated and will be removed from pandas in a future version. Use pandas.concat instead.\n",
      "  temp = temp.append(pd.Series(word_vec), ignore_index = True) # if word is present then append it to temporary dataframe\n",
      "C:\\Users\\susan\\AppData\\Local\\Temp\\ipykernel_2340\\1633527202.py:16: FutureWarning: The frame.append method is deprecated and will be removed from pandas in a future version. Use pandas.concat instead.\n",
      "  docs_vectors = docs_vectors.append(doc_vector, ignore_index = True) # append each document value to the final dataframe\n",
      "C:\\Users\\susan\\AppData\\Local\\Temp\\ipykernel_2340\\1633527202.py:12: FutureWarning: The frame.append method is deprecated and will be removed from pandas in a future version. Use pandas.concat instead.\n",
      "  temp = temp.append(pd.Series(word_vec), ignore_index = True) # if word is present then append it to temporary dataframe\n",
      "C:\\Users\\susan\\AppData\\Local\\Temp\\ipykernel_2340\\1633527202.py:12: FutureWarning: The frame.append method is deprecated and will be removed from pandas in a future version. Use pandas.concat instead.\n",
      "  temp = temp.append(pd.Series(word_vec), ignore_index = True) # if word is present then append it to temporary dataframe\n",
      "C:\\Users\\susan\\AppData\\Local\\Temp\\ipykernel_2340\\1633527202.py:16: FutureWarning: The frame.append method is deprecated and will be removed from pandas in a future version. Use pandas.concat instead.\n",
      "  docs_vectors = docs_vectors.append(doc_vector, ignore_index = True) # append each document value to the final dataframe\n",
      "C:\\Users\\susan\\AppData\\Local\\Temp\\ipykernel_2340\\1633527202.py:12: FutureWarning: The frame.append method is deprecated and will be removed from pandas in a future version. Use pandas.concat instead.\n",
      "  temp = temp.append(pd.Series(word_vec), ignore_index = True) # if word is present then append it to temporary dataframe\n",
      "C:\\Users\\susan\\AppData\\Local\\Temp\\ipykernel_2340\\1633527202.py:12: FutureWarning: The frame.append method is deprecated and will be removed from pandas in a future version. Use pandas.concat instead.\n",
      "  temp = temp.append(pd.Series(word_vec), ignore_index = True) # if word is present then append it to temporary dataframe\n",
      "C:\\Users\\susan\\AppData\\Local\\Temp\\ipykernel_2340\\1633527202.py:16: FutureWarning: The frame.append method is deprecated and will be removed from pandas in a future version. Use pandas.concat instead.\n",
      "  docs_vectors = docs_vectors.append(doc_vector, ignore_index = True) # append each document value to the final dataframe\n",
      "C:\\Users\\susan\\AppData\\Local\\Temp\\ipykernel_2340\\1633527202.py:12: FutureWarning: The frame.append method is deprecated and will be removed from pandas in a future version. Use pandas.concat instead.\n",
      "  temp = temp.append(pd.Series(word_vec), ignore_index = True) # if word is present then append it to temporary dataframe\n",
      "C:\\Users\\susan\\AppData\\Local\\Temp\\ipykernel_2340\\1633527202.py:12: FutureWarning: The frame.append method is deprecated and will be removed from pandas in a future version. Use pandas.concat instead.\n",
      "  temp = temp.append(pd.Series(word_vec), ignore_index = True) # if word is present then append it to temporary dataframe\n",
      "C:\\Users\\susan\\AppData\\Local\\Temp\\ipykernel_2340\\1633527202.py:16: FutureWarning: The frame.append method is deprecated and will be removed from pandas in a future version. Use pandas.concat instead.\n",
      "  docs_vectors = docs_vectors.append(doc_vector, ignore_index = True) # append each document value to the final dataframe\n",
      "C:\\Users\\susan\\AppData\\Local\\Temp\\ipykernel_2340\\1633527202.py:12: FutureWarning: The frame.append method is deprecated and will be removed from pandas in a future version. Use pandas.concat instead.\n",
      "  temp = temp.append(pd.Series(word_vec), ignore_index = True) # if word is present then append it to temporary dataframe\n",
      "C:\\Users\\susan\\AppData\\Local\\Temp\\ipykernel_2340\\1633527202.py:12: FutureWarning: The frame.append method is deprecated and will be removed from pandas in a future version. Use pandas.concat instead.\n",
      "  temp = temp.append(pd.Series(word_vec), ignore_index = True) # if word is present then append it to temporary dataframe\n",
      "C:\\Users\\susan\\AppData\\Local\\Temp\\ipykernel_2340\\1633527202.py:16: FutureWarning: The frame.append method is deprecated and will be removed from pandas in a future version. Use pandas.concat instead.\n",
      "  docs_vectors = docs_vectors.append(doc_vector, ignore_index = True) # append each document value to the final dataframe\n",
      "C:\\Users\\susan\\AppData\\Local\\Temp\\ipykernel_2340\\1633527202.py:12: FutureWarning: The frame.append method is deprecated and will be removed from pandas in a future version. Use pandas.concat instead.\n",
      "  temp = temp.append(pd.Series(word_vec), ignore_index = True) # if word is present then append it to temporary dataframe\n",
      "C:\\Users\\susan\\AppData\\Local\\Temp\\ipykernel_2340\\1633527202.py:12: FutureWarning: The frame.append method is deprecated and will be removed from pandas in a future version. Use pandas.concat instead.\n",
      "  temp = temp.append(pd.Series(word_vec), ignore_index = True) # if word is present then append it to temporary dataframe\n",
      "C:\\Users\\susan\\AppData\\Local\\Temp\\ipykernel_2340\\1633527202.py:16: FutureWarning: The frame.append method is deprecated and will be removed from pandas in a future version. Use pandas.concat instead.\n",
      "  docs_vectors = docs_vectors.append(doc_vector, ignore_index = True) # append each document value to the final dataframe\n",
      "C:\\Users\\susan\\AppData\\Local\\Temp\\ipykernel_2340\\1633527202.py:12: FutureWarning: The frame.append method is deprecated and will be removed from pandas in a future version. Use pandas.concat instead.\n",
      "  temp = temp.append(pd.Series(word_vec), ignore_index = True) # if word is present then append it to temporary dataframe\n",
      "C:\\Users\\susan\\AppData\\Local\\Temp\\ipykernel_2340\\1633527202.py:12: FutureWarning: The frame.append method is deprecated and will be removed from pandas in a future version. Use pandas.concat instead.\n",
      "  temp = temp.append(pd.Series(word_vec), ignore_index = True) # if word is present then append it to temporary dataframe\n"
     ]
    }
   ],
   "source": [
    "# NOTE this can take some time to finish running\n",
    "bbcFT_dvs = gen_docVecs(bbcFT_wv,df['Description'])\n",
    "bbcFT_dvs.isna().any().sum()"
   ]
  },
  {
   "cell_type": "code",
   "execution_count": null,
   "metadata": {},
   "outputs": [],
   "source": [
    "# explore feature space\n",
    "fasttext_features = bbcFT_dvs.to_numpy()"
   ]
  },
  {
   "cell_type": "code",
   "execution_count": null,
   "metadata": {},
   "outputs": [],
   "source": [
    "# creating training and test split\n",
    "X_train, X_test, y_train, y_test,train_indices,test_indices = train_test_split(bbcFT_dvs, df['Category'], list(range(0,len(df['Category']))),test_size=0.33, random_state=seed)\n",
    "\n",
    "model = LogisticRegression(max_iter = 4000,random_state=seed)\n",
    "model.fit(X_train, y_train)\n",
    "model.score(X_test, y_test)"
   ]
  },
  {
   "cell_type": "markdown",
   "metadata": {},
   "source": [
    "# K Fold"
   ]
  },
  {
   "cell_type": "code",
   "execution_count": 33,
   "metadata": {},
   "outputs": [
    {
     "name": "stdout",
     "output_type": "stream",
     "text": [
      "KFold(n_splits=5, random_state=20, shuffle=True)\n"
     ]
    }
   ],
   "source": [
    "from sklearn.model_selection import KFold\n",
    "num_folds = 5\n",
    "kf = KFold(n_splits= num_folds, random_state=seed, shuffle = True) # initialise a 5 fold validation\n",
    "print(kf)"
   ]
  },
  {
   "cell_type": "code",
   "execution_count": 34,
   "metadata": {},
   "outputs": [],
   "source": [
    "def evaluate(X_train,X_test,y_train, y_test,seed):\n",
    "    model = LogisticRegression(random_state=seed)\n",
    "    model.fit(X_train, y_train)\n",
    "    return model.score(X_test, y_test)"
   ]
  },
  {
   "cell_type": "code",
   "execution_count": null,
   "metadata": {},
   "outputs": [],
   "source": [
    "num_models = 3\n",
    "cv_df = pd.DataFrame(columns = ['count','tfidf','fasttext'],index=range(num_folds)) # creates a dataframe to store the accuracy scores in all the folds\n",
    "\n",
    "fold = 0\n",
    "for train_index, test_index in kf.split(list(range(0,len(categories)))):\n",
    "    y_train = [categories[i] for i in train_index]\n",
    "    y_test = [categories[i] for i in test_index]\n",
    " \n",
    "    X_train_count, X_test_count = count_features[train_index], count_features[test_index]\n",
    "    cv_df.loc[fold,'count'] = evaluate(count_features[train_index],count_features[test_index],y_train,y_test,seed)\n",
    "\n",
    "    X_train_tfidf, X_test_tfidf = tfidf_features[train_index], tfidf_features[test_index]\n",
    "    cv_df.loc[fold,'tfidf'] = evaluate(tfidf_features[train_index],tfidf_features[test_index],y_train,y_test,seed)\n",
    "    \n",
    "    X_train_fasttext, X_test_fasttext = fasttext_features[train_index], fasttext_features[test_index]\n",
    "    cv_df.loc[fold,'fasttext'] = evaluate(fasttext_features[train_index],fasttext_features[test_index],y_train,y_test,seed)\n",
    "    \n",
    "    fold +=1"
   ]
  },
  {
   "cell_type": "code",
   "execution_count": null,
   "metadata": {},
   "outputs": [],
   "source": [
    "cv_df"
   ]
  },
  {
   "cell_type": "code",
   "execution_count": null,
   "metadata": {},
   "outputs": [],
   "source": [
    "cv_df.mean()"
   ]
  },
  {
   "cell_type": "markdown",
   "metadata": {},
   "source": [
    "# Comparing with only Title "
   ]
  },
  {
   "cell_type": "code",
   "execution_count": 42,
   "metadata": {},
   "outputs": [
    {
     "data": {
      "text/plain": [
       "(38, 5058)"
      ]
     },
     "execution_count": 42,
     "metadata": {},
     "output_type": "execute_result"
    }
   ],
   "source": [
    "#tfidf \n",
    "\n",
    "from sklearn.feature_extraction.text import TfidfVectorizer\n",
    "tVectorizer = TfidfVectorizer(analyzer = \"word\",vocabulary = voc) # initialised the TfidfVectorizer\n",
    "tfidf_features = tVectorizer.fit_transform([' '.join(article) for article in title]) # generate the tfidf vector representation for all articles\n",
    "tfidf_features.shape"
   ]
  },
  {
   "cell_type": "code",
   "execution_count": 36,
   "metadata": {},
   "outputs": [
    {
     "data": {
      "text/plain": [
       "0.3151750972762646"
      ]
     },
     "execution_count": 36,
     "metadata": {},
     "output_type": "execute_result"
    }
   ],
   "source": [
    "seed = 2000\n",
    "X_train, X_test, y_train, y_test = train_test_split(tfidf_features, categories, test_size=0.33, random_state=seed)\n",
    "model = LogisticRegression(random_state=seed)\n",
    "model.fit(X_train, y_train)\n",
    "model.score(X_test, y_test)"
   ]
  },
  {
   "cell_type": "markdown",
   "metadata": {},
   "source": [
    "# Combining Title with description"
   ]
  },
  {
   "cell_type": "code",
   "execution_count": 37,
   "metadata": {},
   "outputs": [],
   "source": [
    "features=[]\n",
    "job_details = str(job_details)\n",
    "for title, description in zip(df['Title'],job_details):\n",
    "    \n",
    "    data=title.strip(' ')+' '+description\n",
    "    features.append(data)\n",
    "   "
   ]
  },
  {
   "cell_type": "code",
   "execution_count": 38,
   "metadata": {},
   "outputs": [],
   "source": [
    "concatenated_list = [description.split(\" \") for description in features] "
   ]
  },
  {
   "cell_type": "code",
   "execution_count": 39,
   "metadata": {},
   "outputs": [
    {
     "name": "stdout",
     "output_type": "stream",
     "text": [
      "(776, 5058)\n"
     ]
    }
   ],
   "source": [
    "count_features = cVectorizer.fit_transform([\" \".join(article) for article in concatenated_list]) # generate the count vector representation for all articles\n",
    "print(count_features.shape)"
   ]
  },
  {
   "cell_type": "code",
   "execution_count": 40,
   "metadata": {},
   "outputs": [
    {
     "data": {
      "text/plain": [
       "<776x5058 sparse matrix of type '<class 'numpy.int64'>'\n",
       "\twith 2315 stored elements in Compressed Sparse Row format>"
      ]
     },
     "execution_count": 40,
     "metadata": {},
     "output_type": "execute_result"
    }
   ],
   "source": [
    "count_features"
   ]
  },
  {
   "cell_type": "code",
   "execution_count": 41,
   "metadata": {},
   "outputs": [
    {
     "data": {
      "text/plain": [
       "0.8054474708171206"
      ]
     },
     "execution_count": 41,
     "metadata": {},
     "output_type": "execute_result"
    }
   ],
   "source": [
    "seed = 20\n",
    "X_train, X_test, y_train, y_test = train_test_split(count_features, df[\"Category\"], test_size=0.33, random_state=seed)\n",
    "model = LogisticRegression(random_state=seed)\n",
    "model.fit(X_train, y_train)\n",
    "model.score(X_test, y_test)"
   ]
  },
  {
   "cell_type": "markdown",
   "metadata": {},
   "source": [
    "## Summary\n",
    "Give a short summary and anything you would like to talk about the assessment tasks here."
   ]
  },
  {
   "cell_type": "raw",
   "metadata": {},
   "source": [
    "1.) Which language model we built previously (based on job advertisement descriptions) performs the best with\n",
    "the chosen machine learning model?"
   ]
  },
  {
   "cell_type": "raw",
   "metadata": {},
   "source": [
    "Tfidf model performs the best with the 0.91 accuracy compared to count vector\n",
    "0.85 and fasttext 0.79"
   ]
  },
  {
   "cell_type": "raw",
   "metadata": {},
   "source": [
    "After a 5-fold cross validation the mean accuracy of 3 models are:\n",
    "count       0.859553\n",
    "tfidf       0.893002\n",
    "fasttext    0.725542"
   ]
  },
  {
   "cell_type": "raw",
   "metadata": {},
   "source": [
    "2.) Does more information provide higher accuracy?"
   ]
  },
  {
   "cell_type": "raw",
   "metadata": {},
   "source": [
    "Only with title :\n",
    "accuracy : 0.3151750972762646"
   ]
  },
  {
   "cell_type": "raw",
   "metadata": {},
   "source": [
    "Combining Title with description:\n",
    "accuracy :0.8054474708171206"
   ]
  },
  {
   "cell_type": "raw",
   "metadata": {},
   "source": [
    "Only with description :\n",
    "0.91"
   ]
  },
  {
   "cell_type": "raw",
   "metadata": {},
   "source": [
    "No,\n",
    "The model performs better with description data "
   ]
  }
 ],
 "metadata": {
  "kernelspec": {
   "display_name": "Python 3 (ipykernel)",
   "language": "python",
   "name": "python3"
  },
  "language_info": {
   "codemirror_mode": {
    "name": "ipython",
    "version": 3
   },
   "file_extension": ".py",
   "mimetype": "text/x-python",
   "name": "python",
   "nbconvert_exporter": "python",
   "pygments_lexer": "ipython3",
   "version": "3.9.12"
  }
 },
 "nbformat": 4,
 "nbformat_minor": 1
}
